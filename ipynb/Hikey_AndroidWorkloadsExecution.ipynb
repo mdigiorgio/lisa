{
 "cells": [
  {
   "cell_type": "code",
   "execution_count": 1,
   "metadata": {
    "collapsed": false,
    "run_control": {
     "marked": true
    }
   },
   "outputs": [],
   "source": [
    "%load_ext autoreload\n",
    "%autoreload 2"
   ]
  },
  {
   "cell_type": "markdown",
   "metadata": {},
   "source": [
    "# Android Workloads Experiments"
   ]
  },
  {
   "cell_type": "code",
   "execution_count": 2,
   "metadata": {
    "collapsed": false,
    "run_control": {
     "marked": true
    }
   },
   "outputs": [],
   "source": [
    "import logging\n",
    "reload(logging)\n",
    "log_fmt = '%(asctime)-9s %(levelname)-8s: %(message)s'\n",
    "logging.basicConfig(format=log_fmt)\n",
    "\n",
    "# Change to info once the notebook runs ok\n",
    "logging.getLogger().setLevel(logging.INFO)"
   ]
  },
  {
   "cell_type": "code",
   "execution_count": 3,
   "metadata": {
    "collapsed": false,
    "run_control": {
     "marked": true
    }
   },
   "outputs": [],
   "source": [
    "%matplotlib inline\n",
    "\n",
    "import collections\n",
    "import copy\n",
    "import devlib\n",
    "import json\n",
    "import matplotlib.pyplot as plt\n",
    "import os\n",
    "import pexpect as pe\n",
    "import pandas as pd\n",
    "import sqlite3\n",
    "import trappy\n",
    "\n",
    "from env import TestEnv\n",
    "from android import Screen, Workload\n",
    "from trace import Trace\n",
    "from time import sleep"
   ]
  },
  {
   "cell_type": "markdown",
   "metadata": {},
   "source": [
    "# Globals Setup"
   ]
  },
  {
   "cell_type": "markdown",
   "metadata": {},
   "source": [
    "Devlib requires the ANDROID_HOME environment variable configured to point to your local installation of the Android SDK. If you have not this variable configured in the shell used to start the notebook server, you need to run the next cell to define where your Android SDK is installed."
   ]
  },
  {
   "cell_type": "code",
   "execution_count": 4,
   "metadata": {
    "collapsed": false,
    "run_control": {
     "marked": true
    }
   },
   "outputs": [
    {
     "name": "stderr",
     "output_type": "stream",
     "text": [
      "2016-09-28 17:55:38,568 INFO    : ADB      : /home/vagrant/lisa/tools/android-sdk-linux//platform-tools/adb\n",
      "2016-09-28 17:55:38,577 INFO    : FASTBOOT : /home/vagrant/lisa/tools/android-sdk-linux//platform-tools/fastboot\n",
      "2016-09-28 17:55:38,579 INFO    : CATAPULT : /home/vagrant/catapult\n"
     ]
    }
   ],
   "source": [
    "# Setup Androd SDK\n",
    "os.environ['ANDROID_HOME'] = '/home/vagrant/lisa/tools/android-sdk-linux/'\n",
    "adb = !echo $ANDROID_HOME/platform-tools/adb\n",
    "adb = adb[0]\n",
    "logging.info(\"ADB      : %s\", adb)\n",
    "fastboot = !echo $ANDROID_HOME/platform-tools/fastboot\n",
    "fastboot = fastboot[0]\n",
    "logging.info(\"FASTBOOT : %s\", fastboot)\n",
    "\n",
    "# Setup Catapult for Systrace usage\n",
    "CATAPULT_HOME = \"/home/vagrant/catapult\"\n",
    "logging.info(\"CATAPULT : %s\", CATAPULT_HOME)"
   ]
  },
  {
   "cell_type": "code",
   "execution_count": 5,
   "metadata": {
    "code_folding": [],
    "collapsed": false,
    "run_control": {
     "marked": true
    }
   },
   "outputs": [
    {
     "name": "stdout",
     "output_type": "stream",
     "text": [
      "adbd is already running as root\r\n"
     ]
    }
   ],
   "source": [
    "# Android device to target\n",
    "DEVICE = '2185A639000468F1'\n",
    "\n",
    "# Ensure ADB is running as root\n",
    "!{adb} -s {DEVICE} root"
   ]
  },
  {
   "cell_type": "markdown",
   "metadata": {},
   "source": [
    "# Support Functions"
   ]
  },
  {
   "cell_type": "markdown",
   "metadata": {},
   "source": [
    "This set of support functions will help us running the benchmark using different CPUFreq governors."
   ]
  },
  {
   "cell_type": "markdown",
   "metadata": {},
   "source": [
    "## CPUFreq setup"
   ]
  },
  {
   "cell_type": "code",
   "execution_count": 6,
   "metadata": {
    "code_folding": [],
    "collapsed": true,
    "run_control": {
     "marked": true
    }
   },
   "outputs": [],
   "source": [
    "def set_performance():\n",
    "    target.cpufreq.set_all_governors('performance')\n",
    "\n",
    "def set_powersave():\n",
    "    target.cpufreq.set_all_governors('powersave')\n",
    "\n",
    "def set_interactive():\n",
    "    logging.info('Set CPUFreq: Interactive')\n",
    "    target.cpufreq.set_all_governors('interactive')\n",
    "\n",
    "def set_sched():\n",
    "    logging.info('Set CPUFreq: SchedFreq')\n",
    "    target.cpufreq.set_all_governors('sched')\n",
    "\n",
    "def set_schedutil():\n",
    "    logging.info('Set CPUFreq: SchedUtil')\n",
    "    target.cpufreq.set_all_governors('schedutil')\n",
    "    \n",
    "def set_ondemand():\n",
    "    target.cpufreq.set_all_governors('ondemand')\n",
    "    \n",
    "    for cpu in target.list_online_cpus():\n",
    "        tunables = target.cpufreq.get_governor_tunables(cpu)\n",
    "        target.cpufreq.set_governor_tunables(\n",
    "            cpu,\n",
    "            'ondemand',\n",
    "            **{'sampling_rate' : tunables['sampling_rate_min']}\n",
    "        )\n",
    "        \n",
    "def set_min_freqs(min_freq, cpus=None):\n",
    "    scaling_min_freq = '/sys/devices/system/cpu/cpu{}/cpufreq/scaling_min_freq'\n",
    "    if not cpus:\n",
    "        cpus = target.list_online_cpus()\n",
    "    for cpu in cpus:\n",
    "        attr = scaling_min_freq.format(cpu)\n",
    "        target.execute('echo {} > {}'.format(min_freq, attr))"
   ]
  },
  {
   "cell_type": "markdown",
   "metadata": {},
   "source": [
    "## System reboot support"
   ]
  },
  {
   "cell_type": "code",
   "execution_count": 7,
   "metadata": {
    "collapsed": false,
    "run_control": {
     "marked": true
    }
   },
   "outputs": [],
   "source": [
    "from subprocess import Popen, PIPE\n",
    "import select\n",
    "\n",
    "def wait_for_logcat_idle(seconds=1):\n",
    "    lines = 0\n",
    "    \n",
    "    # Clear logcat\n",
    "    os.system('{} logcat -s {} -c'.format(adb, DEVICE));\n",
    "\n",
    "    # Dump logcat output\n",
    "    logcat_cmd = '{} -s {} logcat'.format(adb, DEVICE)\n",
    "    logcat = Popen(logcat_cmd, shell=True, stdout=PIPE)\n",
    "    logcat_poll = select.poll()\n",
    "    logcat_poll.register(logcat.stdout, select.POLLIN)\n",
    "\n",
    "    # Monitor logcat until it's idle for the specified number of [s]\n",
    "    logging.info(\"Waiting for system to be almost idle\")\n",
    "    logging.info(\"   i.e. at least 10[s] of no logcat messages\")\n",
    "    while True: \n",
    "        poll_result = logcat_poll.poll(seconds * 1000)\n",
    "        print '\\rLogcat lines counting: {}'.format(lines),\n",
    "        if not poll_result:\n",
    "            break            \n",
    "        lines = lines + 1\n",
    "        line = logcat.stdout.readline(1024)\n",
    "\n",
    "\n",
    "def reboot(conf_name):\n",
    "    \n",
    "    try:\n",
    "\n",
    "        # Get image path from conf\n",
    "        # If not specified we just reboot, this should ensure similar\n",
    "        # conditions for each experiment\n",
    "        image = confs[conf_name]['boot_img']\n",
    "        boot_img = boot_images_folder + image\n",
    "        \n",
    "        logging.info('Rebooting into configuration: %s...', conf_name)\n",
    "\n",
    "        logging.debug('Reboot bootloader...')\n",
    "        !{adb} -s {DEVICE} reboot-bootloader\n",
    "        sleep(6)\n",
    "\n",
    "        logging.info('Flash boot image: %s', boot_img)\n",
    "        !{fastboot} -s {DEVICE} flash boot {boot_img}\n",
    "        \n",
    "        logging.debug('Rebooting device...')\n",
    "        !{fastboot} -s {DEVICE} reboot\n",
    "        \n",
    "        logging.debug('Waiting 60[s] for target to reboot...')\n",
    "        sleep(60)\n",
    "        \n",
    "        rebooting = True\n",
    "    except:\n",
    "        # No bootimage specified, using current one but still reboot\n",
    "        # to start the experiment on the same conditions\n",
    "        logging.info('No image for configuration: %s...', conf_name)\n",
    "        rebooting = False\n",
    "        pass\n",
    "\n",
    "\n",
    "    # Restart ADB in root mode\n",
    "    !{adb} -s {DEVICE} root\n",
    "    # Disable charge via USB\n",
    "    !{adb} shell \"echo 0 >/sys/class/power_supply/battery/charging_enabled\"\n",
    "    # Log current kernel version\n",
    "    output = target.execute('uname -a')\n",
    "    logging.info('Running with kernel:')\n",
    "    logging.info('   %s', output)\n",
    "    \n",
    "    # Unlock device screen (assume no password required)\n",
    "    target.execute('input keyevent 82')\n",
    "    \n",
    "    # Wait for the system to complete the boot\n",
    "    if rebooting:\n",
    "        wait_for_logcat_idle(10)"
   ]
  },
  {
   "cell_type": "markdown",
   "metadata": {},
   "source": [
    "# Benchmarks"
   ]
  },
  {
   "cell_type": "markdown",
   "metadata": {},
   "source": [
    "## IOPerformance Benchmark"
   ]
  },
  {
   "cell_type": "code",
   "execution_count": 8,
   "metadata": {
    "collapsed": false,
    "run_control": {
     "marked": true
    }
   },
   "outputs": [],
   "source": [
    "from collections import namedtuple\n",
    "import pandas as pd\n",
    "import re\n",
    "DD_METRICS_RE = re.compile(\n",
    "    r'(?P<bytes>[0-9]+).* \\((?P<mbytes>[0-9\\.]+).* (?P<time_s>[0-9\\.]+).* (?P<mbps>[0-9]+)')\n",
    "\n",
    "IOPerf_Columns = ['tag', 'operation', 'MBytes', 'Time', 'MBps']\n",
    "IOPerf = namedtuple('IOPerf', ','.join(IOPerf_Columns))\n",
    "\n",
    "# INFILE = '/dev/block/platform/soc/624000.ufshc/by-name/userdata'\n",
    "# Define SSD device name for your target device\n",
    "INFILE = '/dev/block/platform/soc/f723d000.dwmmc0/by-name/userdata'\n",
    "\n",
    "def ioperf_operation(tag, block_size, block_count, operation, iterations=1):\n",
    "    read = True if operation.upper() == 'READ' else False\n",
    "    operation = 'Read' if read else 'Write'\n",
    "    data = []\n",
    "\n",
    "# NOTE: we use a statically linked version of dd which support the oflag=dsync\n",
    "#       option, this measn that dd returns when data have been flashed on disk\n",
    "#       Without that option, the stats returned by dd for write operations\n",
    "#       are not usable to build a statistic.\n",
    "\n",
    "    DD_CMD = target.get_installed('dd')\n",
    "\n",
    "    infile = INFILE\n",
    "    outfile = '/data/local/tmp/dd_out.file'\n",
    "    if read:\n",
    "        cmd = '{} if={} of=/dev/null bs={} count={} 2>&1'\\\n",
    "                    .format(DD_CMD, infile, block_size, block_count)\n",
    "    else:\n",
    "        cmd = '{} if=/dev/zero of={} bs={} count={} oflag=dsync 2>&1'\\\n",
    "                    .format(DD_CMD, outfile, block_size, block_count)\n",
    "\n",
    "    # Add CPUs pinning as required by conf\n",
    "    try:\n",
    "        cpus_mask = confs[tag]['cpus']\n",
    "        taskset = target.get_installed('taskset')\n",
    "        if not taskset:\n",
    "            raise RuntimeError('Taskset tool not installed, target reconfiguration required')\n",
    "        cmd = '{} {} {}'.format(taskset, cpus_mask, cmd)\n",
    "        logging.info('Using CPUs mask: %s', cpus_mask)\n",
    "    except KeyError:\n",
    "        # No CPUs mask pinning required\n",
    "        pass\n",
    "\n",
    "    # Set minimum frequency required by conf\n",
    "    try:\n",
    "        min_freq = confs[tag]['min_freq']\n",
    "        logging.info('Using MIN frequency: %d', min_freq)\n",
    "    except KeyError:\n",
    "        # No MIN frequency required\n",
    "        min_freq = 0\n",
    "        pass\n",
    "    set_min_freqs(min_freq)\n",
    "\n",
    "    for i in range(iterations):\n",
    "        if read:\n",
    "            # Disable caches\n",
    "            target.execute('sync')\n",
    "            target.execute('echo 3 > /proc/sys/vm/drop_caches')    \n",
    "\n",
    "        output = target.execute(cmd)\n",
    "        for line in output.splitlines():\n",
    "            match = DD_METRICS_RE.search(line)\n",
    "            if not match:\n",
    "                continue\n",
    "            ioperf = IOPerf(tag, operation,\n",
    "                            float(match.group('mbytes')),\n",
    "                            float(match.group('time_s')),\n",
    "                            int(match.group('mbps')))\n",
    "            logging.info('%3d - %s transfer speed: %d MB/sec',\n",
    "                         i+1, operation, ioperf.MBps)\n",
    "            data.append(ioperf)\n",
    "\n",
    "    # Restore min frequency if changed for the experiment\n",
    "    if min_freq:\n",
    "        set_min_freqs(0)\n",
    "\n",
    "    return data\n",
    "\n",
    "def ioperf_run(tag, megabytes, iterations=1, operations='READ_WRITE'):\n",
    "    data = []\n",
    "    \n",
    "    # Operations are in blocks of 1MB\n",
    "    block_size = 1024*1024\n",
    "    block_count = megabytes\n",
    "    \n",
    "    # Collect stats for each operation\n",
    "    for operation in operations.split('_'):\n",
    "        logging.info('Profiling %d %s using %dMB data...',\n",
    "                     iterations, operation, megabytes)\n",
    "        data.extend(ioperf_operation(tag, block_size, block_count, operation, iterations))\n",
    "\n",
    "    # Build Padas DataFrame for collected data\n",
    "    df = pd.DataFrame(data, columns=IOPerf_Columns)\n",
    "    return df"
   ]
  },
  {
   "cell_type": "markdown",
   "metadata": {},
   "source": [
    "# Experiments Execution Function"
   ]
  },
  {
   "cell_type": "code",
   "execution_count": 9,
   "metadata": {
    "collapsed": false,
    "run_control": {
     "marked": true
    }
   },
   "outputs": [],
   "source": [
    "import subprocess as sp\n",
    "\n",
    "#SYSTRACE_EVTS = 'gfx view freq idle sched eas stune walt'\n",
    "#SYSTRACE_EVTS = 'gfx view freq idle sched sm power sync workq'\n",
    "# SYSTRACE_EVTS = 'view freq idle sched'\n",
    "SYSTRACE_EVTS = 'view freq idle sched eas stune walt tasks-wait'\n",
    "SYSTRACE_BUFFSIZE_KB = \" -b {} \".format(10 * 1024)\n",
    "SYSTRACE_CMD  = CATAPULT_HOME                      \\\n",
    "                + \"/systrace/systrace/systrace.py\" \\\n",
    "                + SYSTRACE_BUFFSIZE_KB             \\\n",
    "                + SYSTRACE_EVTS                    \\\n",
    "                + \" -e {} -o {} -t {}\"\n",
    "\n",
    "def experiment(wl, res_dir, conf_name, wload_name, collect=''):\n",
    "    \n",
    "    # Load workload params\n",
    "    wload_kind = wload_name.split()[0]\n",
    "    iterations = int(wload_name.split()[1])\n",
    "    wload_tag = wload_name.split()[2]\\\n",
    "                .replace('https://youtu.be/', '')\\\n",
    "                .replace('?t=', '_')\n",
    "            \n",
    "    # Check for workload being available\n",
    "    wload = Workload.get(te, wload_kind)\n",
    "    if wload_kind not in ['IOPerf'] and not wload:\n",
    "        return {}\n",
    "    \n",
    "    # Setup test results folder\n",
    "    exp_dir = os.path.join(res_dir, conf_name, \"{}_{}\".format(wload_kind, wload_tag))\n",
    "    os.system('mkdir -p {}'.format(exp_dir));\n",
    "\n",
    "    # Configure governor\n",
    "    confs[conf_name]['set']()\n",
    "    \n",
    "    # Configure screen to max brightness and no dimming\n",
    "    Screen.set_brightness(target, percent=100)\n",
    "    Screen.set_dim(target, auto=False)\n",
    "    Screen.set_timeout(target, 60*60*10) # 10 hours should be enought for an experiment\n",
    "    \n",
    "    # Start the required tracing command\n",
    "    if 'ftrace' in collect:\n",
    "        # Start FTrace and Energy monitoring\n",
    "        te.ftrace.start()\n",
    "    elif 'systrace' in collect:\n",
    "        # Get the systrace time\n",
    "        match = re.search(r'systrace_([0-9]+)', collect)\n",
    "        if match:\n",
    "            systrace_time = match.group(1)\n",
    "        else:\n",
    "            logging.warning(\"Systrace time NOT defined, tracing for 10[s]\")\n",
    "            systrace_time = 10\n",
    "        # Start systrace\n",
    "        trace_file = os.path.join(exp_dir, 'trace.html')\n",
    "        trace_cmd = SYSTRACE_CMD.format(DEVICE, trace_file, systrace_time)\n",
    "        logging.info('SysTrace: %s', trace_cmd)\n",
    "        systrace_output = pe.spawn(trace_cmd)\n",
    "    \n",
    "    ###########################\n",
    "    # Run the required workload\n",
    "    \n",
    "    # Jankbench\n",
    "    if 'Jankbench' in wload_name:\n",
    "        db_file, nrg_report = wload.run(exp_dir, wload_tag, iterations, collect)\n",
    "\n",
    "    # UiBench\n",
    "    elif 'UiBench' in wload_name:\n",
    "        test_name = wload_name.split()[2]\n",
    "        duration_s = int(wload_name.split()[3])\n",
    "        db_file, nrg_report = wload.run(exp_dir, test_name, duration_s, collect)\n",
    "\n",
    "    # YouTube\n",
    "    elif 'YouTube' in wload_name:\n",
    "        video_url = wload_name.split()[2]\n",
    "        video_duration_s = int(wload_name.split()[3])\n",
    "        db_file, nrg_report = wload.run(exp_dir, video_url, video_duration_s, collect)\n",
    "        \n",
    "    # IO Latency (using dd)\n",
    "    elif 'IOPerf' in wload_name:\n",
    "        megabytes  = int(wload_name.split()[2])\n",
    "        operations = wload_name.split()[3]\n",
    "        \n",
    "        # Run measurements\n",
    "        if 'energy' in collect:\n",
    "            te.emeter.reset()\n",
    "        df = ioperf_run(conf_name, megabytes, iterations, operations)\n",
    "        if 'energy' in collect:\n",
    "            nrg_report = te.emeter.report(exp_dir)\n",
    "        \n",
    "        # Save measurements\n",
    "        csv_file = os.path.join(exp_dir, 'data.csv')\n",
    "        df.to_csv(csv_file)\n",
    "        \n",
    "        db_file = csv_file\n",
    "\n",
    "    # RTApp based workloads\n",
    "    elif 'RTApp' in wload_name:\n",
    "        rtapp_kind = wload_name.replace('RTApp ', '')\n",
    "        db_file, nrg_report = rtapp_run(rtapp_kind)\n",
    "\n",
    "        \n",
    "    ###########################\n",
    "    \n",
    "    # Stop the required trace command\n",
    "    if 'ftrace' in collect:\n",
    "        te.ftrace.stop()\n",
    "        # Collect and keep track of the trace\n",
    "        trace_file = os.path.join(exp_dir, 'trace.dat')\n",
    "        te.ftrace.get_trace(trace_file)\n",
    "        if 'functions' in my_conf['ftrace']:\n",
    "            trace_stats = os.path.join(exp_dir, 'trace.stats')\n",
    "            te.ftrace.get_stats(trace_stats)\n",
    "    elif 'systrace' in collect:\n",
    "        logging.info('Waiting systrace report [%s]...', trace_file)\n",
    "        systrace_output.wait()\n",
    "\n",
    "    # Reset screen brightness and auto dimming\n",
    "    Screen.set_defaults(target, )\n",
    "        \n",
    "    # Dump platform descriptor\n",
    "    te.platform_dump(exp_dir)\n",
    "\n",
    "    # return all the experiment data\n",
    "    if 'trace' in collect:\n",
    "        return {\n",
    "            'dir'             : exp_dir,\n",
    "            'db_file'         : db_file,\n",
    "            'nrg_report'      : nrg_report,\n",
    "            'trace_file'      : trace_file,\n",
    "        }\n",
    "    else:\n",
    "        return {\n",
    "            'dir'             : exp_dir,\n",
    "            'db_file'         : db_file,\n",
    "            'nrg_report'      : nrg_report,\n",
    "        }"
   ]
  },
  {
   "cell_type": "code",
   "execution_count": 10,
   "metadata": {
    "collapsed": false,
    "run_control": {
     "marked": true
    },
    "scrolled": true
   },
   "outputs": [],
   "source": [
    "def run_experiments(test_confs, verbose=False, pretend=False):\n",
    "\n",
    "    # Make sure we have a list of configuraitons to test\n",
    "    if not isinstance(test_confs, list):\n",
    "        test_confs = [test_confs]\n",
    "\n",
    "    # Intialize Workloads for this test environment\n",
    "    wl = Workload(te)\n",
    "\n",
    "    # Change to info once the notebook runs ok\n",
    "    if verbose:\n",
    "        logging.getLogger().setLevel(logging.DEBUG)\n",
    "    else:\n",
    "        logging.getLogger().setLevel(logging.INFO)\n",
    "\n",
    "    # Unlock device screen (assume no password required)\n",
    "    target.execute('input keyevent 82')\n",
    "\n",
    "    # The set of results for each comparison test\n",
    "    results = collections.defaultdict(dict)\n",
    "\n",
    "    results = {}\n",
    "    # Run the benchmark in all the configured configurations\n",
    "    for conf_name in test_confs:\n",
    "        \n",
    "        results[conf_name] = {}\n",
    "\n",
    "        # Flash and reboot with the required bootimage\n",
    "        logging.info('\\n\\n')\n",
    "        logging.info('========================')\n",
    "        if not pretend:\n",
    "            reboot(conf_name)\n",
    "\n",
    "        # Setup data to be collected\n",
    "        try:\n",
    "            collect = confs[conf_name]['collect']\n",
    "            logging.info(\"Enabling collection of: %s\", collect)\n",
    "        except:\n",
    "            collect = ''\n",
    "\n",
    "        # Enable energy collection only if an emeter has been configured\n",
    "        if 'energy' in collect:\n",
    "            if 'emeter' not in my_conf or not te.emeter:\n",
    "                logging.warning('Disabling ENERGY collection')\n",
    "                logging.info('Emeter not configured or not available')\n",
    "                collect = collect.replace('energy', '')\n",
    "            else:\n",
    "                logging.debug('Enabling ENERGY collection')\n",
    "\n",
    "        # Run each workload\n",
    "        idx = 0\n",
    "        for wload_name in wloads:\n",
    "            \n",
    "            # Skip workload if not enabled by the configuration\n",
    "            try:\n",
    "                enabled = False\n",
    "                enabled_workloads = confs[conf_name]['wloads']\n",
    "                for wload in enabled_workloads:\n",
    "                    if wload in wload_name:\n",
    "                        enabled = True\n",
    "                        break\n",
    "                if not enabled:\n",
    "                    logging.debug('Workload [%s] disabled',\n",
    "                                 wload_name)\n",
    "                    continue\n",
    "            except:\n",
    "                # No workload filters defined, execute all workloads\n",
    "                logging.debug('All workloads enabled')\n",
    "                pass\n",
    "\n",
    "            # Log test being executed\n",
    "            idx = idx + 1\n",
    "            wload_kind = wload_name.split()[0]\n",
    "            logging.info('------------------------')\n",
    "            logging.info('Test %d: %s in %s configuration',\n",
    "                         idx, wload_kind.upper(), conf_name.upper())\n",
    "            logging.info('        %s', wload_name)\n",
    "            \n",
    "            # Run commands only in \"non pretend\" mode\n",
    "            if pretend:\n",
    "                continue\n",
    "            res = experiment(wl, te.res_dir, conf_name, wload_name, collect)\n",
    "            results[conf_name][wload_name] = copy.deepcopy(res)\n",
    "\n",
    "        # Save results only in \"non pretend\" mode\n",
    "        if pretend:\n",
    "            continue\n",
    "\n",
    "        # Save collected results\n",
    "        res_file = os.path.join(te.res_dir, conf_name, 'results.json')\n",
    "        with open(res_file, 'w') as fh:\n",
    "            json.dump(results[conf_name], fh, indent=4)\n",
    "        \n",
    "        return results"
   ]
  },
  {
   "cell_type": "markdown",
   "metadata": {},
   "source": [
    "# Test Environment set up"
   ]
  },
  {
   "cell_type": "markdown",
   "metadata": {},
   "source": [
    "In case more than one Android device are conencted to the host, you must specify the ID of the device you want to target in `my_target_conf`. Run `adb devices` on your host to get the ID."
   ]
  },
  {
   "cell_type": "code",
   "execution_count": 11,
   "metadata": {
    "collapsed": false,
    "run_control": {
     "marked": true
    }
   },
   "outputs": [],
   "source": [
    "# Setup target configuration\n",
    "my_conf = {\n",
    "\n",
    "    # Target platform and board\n",
    "    \"platform\"    : 'android',\n",
    "    \"board\"       : 'hikey',\n",
    "    \"device\"      : DEVICE,\n",
    "\n",
    "    \"emeter\" : {\n",
    "        \"instrument\" : \"acme\",\n",
    "        \"conf\" : {\n",
    "            # Absolute path to the iio-capture binary on the host\n",
    "            'iio-capture' : '/home/vagrant/iio-capture/iio-capture',\n",
    "            # IP the BeagleBone Black\n",
    "            'ip_address'     : '192.168.0.1',\n",
    "        },\n",
    "        \"channel_map\" : {\n",
    "            \"Device0\" : 0, # iio:device0\n",
    "            \"Device1\" : 1, # Hikey\n",
    "        }\n",
    "    },\n",
    "\n",
    "    # Folder where all the results will be collected\n",
    "    \"results_dir\" : \"Android_WorkloadsExecution\",\n",
    "\n",
    "    # Define devlib modules to load\n",
    "    \"modules\"     : [\n",
    "        'cpufreq'       # enable CPUFreq support\n",
    "    ],\n",
    "\n",
    "    # FTrace events to collect for all the tests configuration which have\n",
    "    # the \"ftrace\" flag enabled\n",
    "    \"ftrace\"  : {\n",
    "         \"events\" : [\n",
    "            \"sched_switch\",\n",
    "            \"sched_wakeup\",\n",
    "            \"sched_wakeup_new\",\n",
    "            \"sched_wakeup_tracking\",\n",
    "            \n",
    "            \"sched_stat_wait\",\n",
    "            \n",
    "            \"sched_overutilized\",\n",
    "            \"sched_contrib_scale_f\",\n",
    "            \"sched_load_avg_cpu\",\n",
    "            \"sched_load_avg_task\",\n",
    "            \"sched_tune_config\",\n",
    "            \"sched_tune_filter\",\n",
    "            \"sched_tune_tasks_update\",\n",
    "            \"sched_tune_boostgroup_update\",\n",
    "            \"sched_boost_cpu\",\n",
    "            \"sched_boost_task\",\n",
    "            \"sched_energy_diff\",\n",
    "            \"cpu_capacity\",\n",
    "            \"cpu_frequency\",\n",
    "            \"cpu_idle\",\n",
    "            \"walt_update_task_ravg\",\n",
    "            \"walt_update_history\",\n",
    "            \"walt_migration_update_sum\",\n",
    "         ],\n",
    "        \"functions\" : [\n",
    "            \"pick_next_task_fair\",\n",
    "            \"select_task_rq_fair\",\n",
    "            \"enqueue_task_fair\",\n",
    "            \"update_curr_fair\",\n",
    "            \"dequeue_task_fair\",\n",
    "        ],\n",
    "        \"buffsize\" : 10 * 1024,\n",
    "    },\n",
    "\n",
    "    # Tools required by the experiments\n",
    "    \"tools\"   : ['trace-cmd', 'dd', 'taskset', 'atrace'],\n",
    "}"
   ]
  },
  {
   "cell_type": "markdown",
   "metadata": {},
   "source": [
    "## Workload Configuration"
   ]
  },
  {
   "cell_type": "code",
   "execution_count": 12,
   "metadata": {
    "collapsed": false,
    "run_control": {
     "marked": true
    }
   },
   "outputs": [],
   "source": [
    "# List of workloads to run, each workload consists of a workload name\n",
    "# followed by a list of workload specific parameters\n",
    "wloads = [\n",
    "\n",
    "# YouTube workload:\n",
    "# Params:\n",
    "# - iterations: number of read/write operations to execute\n",
    "# - URL:        link to the video to use (with optional start time)\n",
    "# - duration:   playback time in [s]\n",
    "#     'YouTube 1 https://youtu.be/XSGBVzeBUbk?t=45s   60',\n",
    "\n",
    "# Jankbench workload:\n",
    "# Params:\n",
    "# - iterations: number of read/write operations to execute\n",
    "# - id:         benchmakr to run\n",
    "#     'Jankbench 1 list_view',\n",
    "#     'Jankbench 1 image_list_view',\n",
    "#     'Jankbench 1 shadow_grid',\n",
    "#     'Jankbench 1 low_hitrate_text',\n",
    "#     'Jankbench 1 high_hitrate_text',\n",
    "#     'Jankbench 1 edit_text',\n",
    "    \n",
    "    # Multi iterations\n",
    "#     'Jankbench 3 list_view',\n",
    "#     'Jankbench 3 image_list_view',\n",
    "#     'Jankbench 3 shadow_grid',\n",
    "#     'Jankbench 3 low_hitrate_text',\n",
    "#     'Jankbench 3 high_hitrate_text',\n",
    "#     'Jankbench 3 edit_text',\n",
    "\n",
    "# UiBench workload:\n",
    "# Params:\n",
    "# - test_name:  The name of the test to start\n",
    "# - duration:   playback time in [s]\n",
    "     'UiBench 1 TrivialAnimation 10',\n",
    "    \n",
    "# IO Performance workload (based on dd copies)\n",
    "# Params:\n",
    "# - iterations: number of read/write operations to execute\n",
    "# - megabytes:  amout of data to read/write for each operation\n",
    "# - operations: operations to execute READ|WRITE|READ_WRITE\n",
    "    'IOPerf 100 10 READ_WRITE',\n",
    "    'IOPerf  10 10 READ_WRITE',\n",
    "    'IOPerf   1 10 READ_WRITE',\n",
    "\n",
    "\n",
    "# RT-App workload:\n",
    "# Params:\n",
    "# - configration: tasks configuration to run\n",
    "# - [configuration specific parameters]\n",
    "#     'RTApp STAccount 6',\n",
    "#     'RTApp RAMP',\n",
    "\n",
    "]"
   ]
  },
  {
   "cell_type": "markdown",
   "metadata": {},
   "source": [
    "## Experiments configuration"
   ]
  },
  {
   "cell_type": "code",
   "execution_count": 13,
   "metadata": {
    "collapsed": false,
    "run_control": {
     "marked": true
    }
   },
   "outputs": [],
   "source": [
    "# Available test configurations\n",
    "\n",
    "# Each conf can specify:\n",
    "#\n",
    "# - set:\n",
    "#   Pointer to a function to setup the target before the experiment\n",
    "#   This is usually user to confiure a specific CPUFreq governor\n",
    "#\n",
    "# - boot_img:\n",
    "#   The boot.img to flash before rebooting the target to run the experiments\n",
    "#   This is the filename for an image which has to be present in this folder:\n",
    "boot_images_folder = '/tmp/bootimages/'\n",
    "#\n",
    "# - collect:\n",
    "#   Define what we want to collect as a list of strings.\n",
    "#   Supported values are\n",
    "#    energy   - Use the my_conf's defined emeter to measure energy\n",
    "#               consumption across an experiment.\n",
    "#               NOTE: this requires an emeter configured in the\n",
    "#                     previous my_conf\n",
    "#    ftrace   - Collect an execution trace using trace-cmd\n",
    "#    systrace - Collect an execution trace using Systrace/Atrace\n",
    "#\n",
    "# - wloads:\n",
    "#   Defined the workloads to execute\n",
    "#   If not defined all the workloads specified in test_wloads will be executed\n",
    "#   Otherwise, a workload in test_workloads is executed only if it matches\n",
    "#   at least one of the strings defined in this list, e.g.\n",
    "#     'wloads' : ['Jankbench list', 'IOPerf']\n",
    "#   will execute only workloads which name constains at least one of the two\n",
    "#   specified strings\n",
    "\n",
    "confs = {\n",
    "\n",
    "    # SchedFreq\n",
    "    'sfreq' : {\n",
    "        'boot_img' : 'boot_sfreq.img',\n",
    "        'set'      : set_sched,\n",
    "        'wloads'   : ['IOPerf  10 '],\n",
    "        'collect'  : 'energy',\n",
    "    },\n",
    "\n",
    "    # SchedUtil PELT\n",
    "    'sutil_pelt' : {\n",
    "        'boot_img' : 'boot_sutil_pelt.img',\n",
    "        'set'      : set_schedutil,\n",
    "        'wloads'   : ['IOPerf  10 '],\n",
    "        'collect'  : 'energy',\n",
    "    },\n",
    "\n",
    "    # SchedUtil WALT\n",
    "    'sutil_walt' : {\n",
    "        'boot_img' : 'boot_sutil_walt.img',\n",
    "        'set'      : set_schedutil,\n",
    "        'wloads'   : ['UiBench 1', 'IOPerf  10 '],\n",
    "        'collect'  : 'energy',\n",
    "    },\n",
    "    # Android LSK + EAS\n",
    "    'eas' : {\n",
    "        #'boot_img' : 'boot_eas.img',\n",
    "        'set'      : set_sched,\n",
    "        'wloads'   : ['UiBench 1', 'IOPerf  10'],\n",
    "        'collect'  : 'energy ftrace',\n",
    "    },\n",
    "    'eas_systrace' : {\n",
    "        'set'      : set_sched,\n",
    "        'wloads'   : ['UiBench 1', 'IOPerf 10'],\n",
    "        'collect'  : 'energy systrace'\n",
    "    }\n",
    "}"
   ]
  },
  {
   "cell_type": "markdown",
   "metadata": {},
   "source": [
    "# Main"
   ]
  },
  {
   "cell_type": "markdown",
   "metadata": {},
   "source": [
    "## Target Connection"
   ]
  },
  {
   "cell_type": "code",
   "execution_count": 14,
   "metadata": {
    "collapsed": false,
    "run_control": {
     "marked": false
    }
   },
   "outputs": [
    {
     "name": "stdout",
     "output_type": "stream",
     "text": [
      "caiman: no process found\r\n"
     ]
    }
   ],
   "source": [
    "# Cleanup Caiman energy meter temporary folders\n",
    "!rm -rf /tmp/eprobe-caiman-*\n",
    "# Ensure there are not other \"caiman\" instanced running for the specified device\n",
    "# my_conf['emeter']['conf']['device_entry']\n",
    "!killall caiman"
   ]
  },
  {
   "cell_type": "code",
   "execution_count": 15,
   "metadata": {
    "collapsed": false
   },
   "outputs": [],
   "source": [
    "# Decongestion ADB buffers?!?\n",
    "# !for i in $(seq 100); do adb shell \"ls -la\"; done >/dev/null"
   ]
  },
  {
   "cell_type": "code",
   "execution_count": 16,
   "metadata": {
    "collapsed": false,
    "run_control": {
     "marked": true
    },
    "scrolled": true
   },
   "outputs": [
    {
     "name": "stderr",
     "output_type": "stream",
     "text": [
      "2016-09-28 17:55:39,965 INFO    :         Target - Using base path: /vagrant\n",
      "2016-09-28 17:55:39,967 INFO    :         Target - Loading custom (inline) target configuration\n",
      "2016-09-28 17:55:39,968 INFO    :         Target - External tools using:\n",
      "2016-09-28 17:55:39,970 INFO    :         Target -    ANDROID_HOME: /home/vagrant/lisa/tools/android-sdk-linux/\n",
      "2016-09-28 17:55:39,972 INFO    :         Target -    CATAPULT_HOME: /home/vagrant/lisa/tools/catapult\n",
      "2016-09-28 17:55:39,975 INFO    :       Platform - Loading board:\n",
      "2016-09-28 17:55:39,976 INFO    :       Platform -    /vagrant/libs/utils/platforms/hikey.json\n",
      "2016-09-28 17:55:39,980 INFO    :         Target - Devlib modules to load: [u'bl', u'cpufreq']\n",
      "2016-09-28 17:55:39,982 INFO    :         Target - Connecting Android target [2185A639000468F1]\n",
      "2016-09-28 17:55:39,984 INFO    :         Target - Connection settings:\n",
      "2016-09-28 17:55:39,988 INFO    :         Target -    {'device': '2185A639000468F1'}\n",
      "2016-09-28 17:55:41,395 INFO    :         Target - Initializing target workdir:\n",
      "2016-09-28 17:55:41,398 INFO    :         Target -    /data/local/tmp/devlib-target\n",
      "2016-09-28 17:55:48,410 INFO    :         Target - Topology:\n",
      "2016-09-28 17:55:48,414 INFO    :         Target -    [[0, 1, 2, 3], [4, 5, 6, 7]]\n",
      "2016-09-28 17:55:48,791 INFO    :       Platform - Loading default EM:\n",
      "2016-09-28 17:55:48,794 INFO    :       Platform -    /vagrant/libs/utils/platforms/hikey.json\n",
      "2016-09-28 17:55:49,534 WARNING : Event [sched_wakeup_tracking] not available for tracing\n",
      "2016-09-28 17:55:50,149 INFO    :         FTrace - Enabled tracepoints:\n",
      "2016-09-28 17:55:50,152 INFO    :         FTrace -   sched_switch\n",
      "2016-09-28 17:55:50,154 INFO    :         FTrace -   sched_wakeup\n",
      "2016-09-28 17:55:50,156 INFO    :         FTrace -   sched_wakeup_new\n",
      "2016-09-28 17:55:50,157 INFO    :         FTrace -   sched_wakeup_tracking\n",
      "2016-09-28 17:55:50,159 INFO    :         FTrace -   sched_stat_wait\n",
      "2016-09-28 17:55:50,160 INFO    :         FTrace -   sched_overutilized\n",
      "2016-09-28 17:55:50,162 INFO    :         FTrace -   sched_contrib_scale_f\n",
      "2016-09-28 17:55:50,163 INFO    :         FTrace -   sched_load_avg_cpu\n",
      "2016-09-28 17:55:50,165 INFO    :         FTrace -   sched_load_avg_task\n",
      "2016-09-28 17:55:50,166 INFO    :         FTrace -   sched_tune_config\n",
      "2016-09-28 17:55:50,167 INFO    :         FTrace -   sched_tune_filter\n",
      "2016-09-28 17:55:50,168 INFO    :         FTrace -   sched_tune_tasks_update\n",
      "2016-09-28 17:55:50,169 INFO    :         FTrace -   sched_tune_boostgroup_update\n",
      "2016-09-28 17:55:50,171 INFO    :         FTrace -   sched_boost_cpu\n",
      "2016-09-28 17:55:50,172 INFO    :         FTrace -   sched_boost_task\n",
      "2016-09-28 17:55:50,174 INFO    :         FTrace -   sched_energy_diff\n",
      "2016-09-28 17:55:50,176 INFO    :         FTrace -   cpu_capacity\n",
      "2016-09-28 17:55:50,178 INFO    :         FTrace -   cpu_frequency\n",
      "2016-09-28 17:55:50,180 INFO    :         FTrace -   cpu_idle\n",
      "2016-09-28 17:55:50,183 INFO    :         FTrace -   walt_update_task_ravg\n",
      "2016-09-28 17:55:50,186 INFO    :         FTrace -   walt_update_history\n",
      "2016-09-28 17:55:50,188 INFO    :         FTrace -   walt_migration_update_sum\n",
      "2016-09-28 17:55:50,191 INFO    :         FTrace - Kernel functions profiled:\n",
      "2016-09-28 17:55:50,193 INFO    :         FTrace -   pick_next_task_fair\n",
      "2016-09-28 17:55:50,196 INFO    :         FTrace -   select_task_rq_fair\n",
      "2016-09-28 17:55:50,198 INFO    :         FTrace -   enqueue_task_fair\n",
      "2016-09-28 17:55:50,200 INFO    :         FTrace -   update_curr_fair\n",
      "2016-09-28 17:55:50,202 INFO    :         FTrace -   dequeue_task_fair\n",
      "2016-09-28 17:55:50,207 INFO    :           ACME - ACME configuration:\n",
      "2016-09-28 17:55:50,208 INFO    :           ACME -     binary: /home/vagrant/iio-capture/iio-capture\n",
      "2016-09-28 17:55:50,210 INFO    :           ACME -     device: 192.168.0.1\n",
      "2016-09-28 17:55:50,211 INFO    :           ACME -   channels:\n",
      "2016-09-28 17:55:50,213 INFO    :           ACME -      Device1 (iio:device1)\n",
      "2016-09-28 17:55:50,215 INFO    :           ACME -      Device0 (iio:device0)\n",
      "2016-09-28 17:55:50,224 INFO    :        TestEnv - Set results folder to:\n",
      "2016-09-28 17:55:50,226 INFO    :        TestEnv -    /vagrant/results/Android_WorkloadsExecution\n",
      "2016-09-28 17:55:50,229 INFO    :        TestEnv - Experiment results available also in:\n",
      "2016-09-28 17:55:50,231 INFO    :        TestEnv -    /vagrant/results_latest\n"
     ]
    }
   ],
   "source": [
    "# Initialize a test environment using:\n",
    "te = TestEnv(my_conf, wipe=False, force_new=True)\n",
    "target = te.target"
   ]
  },
  {
   "cell_type": "markdown",
   "metadata": {},
   "source": [
    "## Workloads Execution and Data Collection"
   ]
  },
  {
   "cell_type": "code",
   "execution_count": 17,
   "metadata": {
    "collapsed": false
   },
   "outputs": [],
   "source": [
    "experiments = ['eas']"
   ]
  },
  {
   "cell_type": "code",
   "execution_count": 18,
   "metadata": {
    "collapsed": false,
    "scrolled": true
   },
   "outputs": [
    {
     "name": "stderr",
     "output_type": "stream",
     "text": [
      "2016-09-28 17:55:54,163 WARNING :       Workload - Package [com.android.benchmark] not installed\n",
      "2016-09-28 17:55:54,164 WARNING :       Workload - Workload [Jankbench] disabled\n",
      "2016-09-28 17:55:58,124 WARNING :       Workload - Package [com.google.android.youtube] not installed\n",
      "2016-09-28 17:55:58,126 WARNING :       Workload - Workload [YouTube] disabled\n",
      "2016-09-28 17:55:58,127 INFO    :       Workload - Workloads available on target:\n",
      "2016-09-28 17:55:58,128 INFO    :       Workload -   ['UiBench']\n",
      "2016-09-28 17:55:59,905 INFO    : \n",
      "\n",
      "\n",
      "2016-09-28 17:55:59,907 INFO    : ========================\n",
      "2016-09-28 17:55:59,910 INFO    : No image for configuration: eas...\n"
     ]
    },
    {
     "name": "stdout",
     "output_type": "stream",
     "text": [
      "adbd is already running as root\n",
      "/system/bin/sh: can't create /sys/class/power_supply/battery/charging_enabled: No such file or directory\n"
     ]
    },
    {
     "name": "stderr",
     "output_type": "stream",
     "text": [
      "2016-09-28 17:56:00,350 INFO    : Running with kernel:\n",
      "2016-09-28 17:56:00,353 INFO    :    Linux localhost 4.4.17-230074-gabcaffc #1 SMP PREEMPT Sun Sep 25 00:06:21 BST 2016 aarch64\n",
      "\n",
      "2016-09-28 17:56:02,139 INFO    : Enabling collection of: energy ftrace\n",
      "2016-09-28 17:56:02,141 INFO    : ------------------------\n",
      "2016-09-28 17:56:02,143 INFO    : Test 1: UIBENCH in EAS configuration\n",
      "2016-09-28 17:56:02,146 INFO    :         UiBench 1 TrivialAnimation 10\n",
      "2016-09-28 17:56:02,147 INFO    :       Workload - Workloads available on target:\n",
      "2016-09-28 17:56:02,148 INFO    :       Workload -   ['UiBench']\n",
      "2016-09-28 17:56:02,157 INFO    : Set CPUFreq: SchedFreq\n",
      "2016-09-28 17:56:05,865 INFO    : Set brightness: 100%\n",
      "2016-09-28 17:56:07,612 INFO    : Dim screen mode: OFF\n",
      "2016-09-28 17:56:09,357 INFO    : Screen timeout: 36000 [s]\n",
      "2016-09-28 17:56:28,104 INFO    : Force manual orientation\n",
      "2016-09-28 17:56:28,107 INFO    : Set orientation: PORTRAIT\n",
      "2016-09-28 17:56:32,962 INFO    : adb -s 2185A639000468F1 logcat ActivityManager:* System.out:I *:S BENCH:*\n",
      "2016-09-28 17:56:35,893 INFO    : Benchmark [.TrivialAnimationActivity] started, waiting 10 [s]\n",
      "2016-09-28 17:56:55,399 INFO    : Set orientation: AUTO\n",
      "2016-09-28 17:57:31,479 INFO    : Set orientation: AUTO\n",
      "2016-09-28 17:57:36,676 INFO    : Set brightness: AUTO\n",
      "2016-09-28 17:57:38,413 INFO    : Dim screen mode: ON\n",
      "2016-09-28 17:57:40,181 INFO    : Screen timeout: 30 [s]\n",
      "2016-09-28 17:57:40,187 INFO    : ------------------------\n",
      "2016-09-28 17:57:40,189 INFO    : Test 2: IOPERF in EAS configuration\n",
      "2016-09-28 17:57:40,190 INFO    :         IOPerf  10 10 READ_WRITE\n",
      "2016-09-28 17:57:40,191 WARNING : Workload [IOPerf] not available on target\n",
      "2016-09-28 17:57:40,199 INFO    : Set CPUFreq: SchedFreq\n",
      "2016-09-28 17:57:43,818 INFO    : Set brightness: 100%\n",
      "2016-09-28 17:57:45,616 INFO    : Dim screen mode: OFF\n",
      "2016-09-28 17:57:47,384 INFO    : Screen timeout: 36000 [s]\n",
      "2016-09-28 17:57:54,607 INFO    : Profiling 10 READ using 10MB data...\n",
      "2016-09-28 17:57:56,642 INFO    :   1 - Read transfer speed: 17 MB/sec\n",
      "2016-09-28 17:57:57,706 INFO    :   2 - Read transfer speed: 17 MB/sec\n",
      "2016-09-28 17:57:58,736 INFO    :   3 - Read transfer speed: 18 MB/sec\n",
      "2016-09-28 17:57:59,780 INFO    :   4 - Read transfer speed: 17 MB/sec\n",
      "2016-09-28 17:58:00,827 INFO    :   5 - Read transfer speed: 17 MB/sec\n",
      "2016-09-28 17:58:01,872 INFO    :   6 - Read transfer speed: 18 MB/sec\n",
      "2016-09-28 17:58:02,932 INFO    :   7 - Read transfer speed: 17 MB/sec\n",
      "2016-09-28 17:58:03,995 INFO    :   8 - Read transfer speed: 17 MB/sec\n",
      "2016-09-28 17:58:05,066 INFO    :   9 - Read transfer speed: 18 MB/sec\n",
      "2016-09-28 17:58:06,165 INFO    :  10 - Read transfer speed: 17 MB/sec\n",
      "2016-09-28 17:58:06,171 INFO    : Profiling 10 WRITE using 10MB data...\n",
      "2016-09-28 17:58:09,436 INFO    :   1 - Write transfer speed: 4 MB/sec\n",
      "2016-09-28 17:58:11,310 INFO    :   2 - Write transfer speed: 5 MB/sec\n",
      "2016-09-28 17:58:13,884 INFO    :   3 - Write transfer speed: 4 MB/sec\n",
      "2016-09-28 17:58:16,233 INFO    :   4 - Write transfer speed: 4 MB/sec\n",
      "2016-09-28 17:58:18,577 INFO    :   5 - Write transfer speed: 4 MB/sec\n",
      "2016-09-28 17:58:20,436 INFO    :   6 - Write transfer speed: 5 MB/sec\n",
      "2016-09-28 17:58:22,299 INFO    :   7 - Write transfer speed: 5 MB/sec\n",
      "2016-09-28 17:58:24,657 INFO    :   8 - Write transfer speed: 4 MB/sec\n",
      "2016-09-28 17:58:27,014 INFO    :   9 - Write transfer speed: 4 MB/sec\n",
      "2016-09-28 17:58:29,353 INFO    :  10 - Write transfer speed: 4 MB/sec\n",
      "2016-09-28 17:58:47,341 INFO    : Set orientation: AUTO\n",
      "2016-09-28 17:58:54,116 INFO    : Set brightness: AUTO\n",
      "2016-09-28 17:58:55,883 INFO    : Dim screen mode: ON\n",
      "2016-09-28 17:58:57,651 INFO    : Screen timeout: 30 [s]\n"
     ]
    }
   ],
   "source": [
    "# run_experiments(experiments, verbose=False, pretend=True)\n",
    "results = run_experiments(experiments)"
   ]
  },
  {
   "cell_type": "code",
   "execution_count": 19,
   "metadata": {
    "collapsed": false
   },
   "outputs": [
    {
     "data": {
      "text/plain": [
       "{'eas': {'IOPerf  10 10 READ_WRITE': {'db_file': '/vagrant/results/Android_WorkloadsExecution/eas/IOPerf_10/data.csv',\n",
       "   'dir': '/vagrant/results/Android_WorkloadsExecution/eas/IOPerf_10',\n",
       "   'nrg_report': EnergyReport(channels={'Device1': 4926.1, 'Device0': 0.0}, report_file='/vagrant/results/Android_WorkloadsExecution/eas/IOPerf_10/energy.json'),\n",
       "   'trace_file': '/vagrant/results/Android_WorkloadsExecution/eas/IOPerf_10/trace.dat'},\n",
       "  'UiBench 1 TrivialAnimation 10': {'db_file': '/vagrant/results/Android_WorkloadsExecution/eas/UiBench_TrivialAnimation/framestats.txt',\n",
       "   'dir': '/vagrant/results/Android_WorkloadsExecution/eas/UiBench_TrivialAnimation',\n",
       "   'nrg_report': EnergyReport(channels={'Device1': 2461.4, 'Device0': 0.0}, report_file='/vagrant/results/Android_WorkloadsExecution/eas/UiBench_TrivialAnimation/energy.json'),\n",
       "   'trace_file': '/vagrant/results/Android_WorkloadsExecution/eas/UiBench_TrivialAnimation/trace.dat'}}}"
      ]
     },
     "execution_count": 19,
     "metadata": {},
     "output_type": "execute_result"
    }
   ],
   "source": [
    "results"
   ]
  },
  {
   "cell_type": "markdown",
   "metadata": {},
   "source": [
    "## Energy Measurements Report"
   ]
  },
  {
   "cell_type": "code",
   "execution_count": 20,
   "metadata": {
    "collapsed": false
   },
   "outputs": [
    {
     "name": "stdout",
     "output_type": "stream",
     "text": [
      "Energy consumption EAS, UiBench 1 TrivialAnimation 10                       : 2461.4\n",
      "Energy consumption EAS, IOPerf 100 10 READ_WRITE                            : NaN\n",
      "Energy consumption EAS, IOPerf  10 10 READ_WRITE                            : 4926.1\n",
      "Energy consumption EAS, IOPerf   1 10 READ_WRITE                            : NaN\n"
     ]
    }
   ],
   "source": [
    "for conf_name in experiments:\n",
    "    for idx, wload_name in enumerate(wloads):\n",
    "        nrg = 'NaN'\n",
    "        if results[conf_name].has_key(wload_name):\n",
    "            if results[conf_name][wload_name]['nrg_report']:\n",
    "                nrg = results[conf_name][wload_name]['nrg_report'].channels['Device1']\n",
    "        print \"Energy consumption {}, {:52}: {}\".format(conf_name.upper(), wload_name, nrg)"
   ]
  },
  {
   "cell_type": "code",
   "execution_count": null,
   "metadata": {
    "collapsed": true
   },
   "outputs": [],
   "source": []
  }
 ],
 "metadata": {
  "kernelspec": {
   "display_name": "Python 2",
   "language": "python",
   "name": "python2"
  },
  "language_info": {
   "codemirror_mode": {
    "name": "ipython",
    "version": 2
   },
   "file_extension": ".py",
   "mimetype": "text/x-python",
   "name": "python",
   "nbconvert_exporter": "python",
   "pygments_lexer": "ipython2",
   "version": "2.7.6"
  },
  "nav_menu": {},
  "toc": {
   "navigate_menu": true,
   "number_sections": true,
   "sideBar": true,
   "threshold": 6,
   "toc_cell": false,
   "toc_section_display": "block",
   "toc_window_display": false
  }
 },
 "nbformat": 4,
 "nbformat_minor": 0
}
