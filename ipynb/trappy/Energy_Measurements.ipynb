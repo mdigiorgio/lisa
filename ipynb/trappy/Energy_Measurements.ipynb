{
 "cells": [
  {
   "cell_type": "markdown",
   "metadata": {},
   "source": [
    "# Energy Measurements"
   ]
  },
  {
   "cell_type": "markdown",
   "metadata": {},
   "source": [
    "The goal of this experiment is to measure energy consumed while running some workload on Juno R2 board using the collected kernel traces. It will be necessary to collect the following events:\n",
    "\n",
    " - `cpu_frequency`, to understand at what frequency each CPU is running\n",
    " - `sched_switch`, to filter out intervals of time in which the CPU is idle"
   ]
  },
  {
   "cell_type": "code",
   "execution_count": 1,
   "metadata": {
    "collapsed": false
   },
   "outputs": [],
   "source": [
    "import logging\n",
    "reload(logging)\n",
    "log_fmt = '%(asctime)-9s %(levelname)-8s: %(message)s'\n",
    "logging.basicConfig(format=log_fmt)\n",
    "\n",
    "# Change to info once the notebook runs ok\n",
    "logging.getLogger().setLevel(logging.DEBUG)"
   ]
  },
  {
   "cell_type": "code",
   "execution_count": 25,
   "metadata": {
    "collapsed": false
   },
   "outputs": [
    {
     "name": "stdout",
     "output_type": "stream",
     "text": [
      "Populating the interactive namespace from numpy and matplotlib\n"
     ]
    }
   ],
   "source": [
    "%pylab inline\n",
    "\n",
    "import os\n",
    "\n",
    "# Support to access the remote target\n",
    "import devlib\n",
    "from env import TestEnv\n",
    "\n",
    "# Support to configure and run RTApp based workloads\n",
    "from wlgen import RTA, Ramp\n",
    "\n",
    "# Support for trace events analysis\n",
    "from trace import Trace\n",
    "from trace_analysis import TraceAnalysis\n",
    "\n",
    "# Suport for FTrace events parsing and visualization\n",
    "import trappy\n",
    "\n",
    "import pandas as pd"
   ]
  },
  {
   "cell_type": "markdown",
   "metadata": {},
   "source": [
    "## OPPs"
   ]
  },
  {
   "cell_type": "markdown",
   "metadata": {},
   "source": [
    "In order to measure energy the user needs to provide all OPPs available in the target device. In our case, we are using a Juno R2 as target device which has the following OPPs:"
   ]
  },
  {
   "cell_type": "code",
   "execution_count": 77,
   "metadata": {
    "collapsed": true
   },
   "outputs": [],
   "source": [
    "juno_opps = {\n",
    "    # LITTLE cluster\n",
    "    'little' : {\n",
    "        # Frequency (kHz) : Voltage (mV)\n",
    "        450000 : 820,\n",
    "        800000 : 900,\n",
    "        950000 : 1000,\n",
    "    },\n",
    "    # big cluster\n",
    "    'big' : {\n",
    "        600000  : 820,\n",
    "        1000000 : 900,\n",
    "        1200000 : 1000,\n",
    "    }\n",
    "}"
   ]
  },
  {
   "cell_type": "markdown",
   "metadata": {},
   "source": [
    "# Target Configuration"
   ]
  },
  {
   "cell_type": "markdown",
   "metadata": {},
   "source": [
    "Our target is a Juno R2 development board running Linux."
   ]
  },
  {
   "cell_type": "code",
   "execution_count": 4,
   "metadata": {
    "collapsed": false
   },
   "outputs": [],
   "source": [
    "# Setup a target configuration\n",
    "my_target_conf = {\n",
    "    \n",
    "    # Target platform and board\n",
    "    \"platform\"    : 'linux',\n",
    "    \"board\"       : 'juno',\n",
    "    \n",
    "    # Target board IP/MAC address\n",
    "    \"host\"        : '10.1.205.160',\n",
    "    \n",
    "    # Login credentials\n",
    "    \"username\"    : 'root',\n",
    "    \"password\"    : '',\n",
    "    \n",
    "    # RTApp calibration values (comment to let LISA do a calibration run)\n",
    "    \"rtapp-calib\" :  {\n",
    "        \"0\": 318, \"1\": 125, \"2\": 124, \"3\": 318, \"4\": 318, \"5\": 319\n",
    "    },\n",
    "    \n",
    "    # Tools required by the experiments\n",
    "    \"tools\"   : [ 'rt-app', 'trace-cmd' ],    \n",
    "    \"exclude_modules\" : ['hwmon'],\n",
    "    \n",
    "    # FTrace events to collect for all the tests configuration which have\n",
    "    # the \"ftrace\" flag enabled\n",
    "    \"ftrace\"  : {\n",
    "         \"events\" : [\n",
    "            \"cpu_frequency\",\n",
    "            \"sched_switch\",\n",
    "         ],\n",
    "         \"buffsize\" : 10 * 1024,\n",
    "    },\n",
    "}"
   ]
  },
  {
   "cell_type": "markdown",
   "metadata": {},
   "source": [
    "# Tests execution"
   ]
  },
  {
   "cell_type": "code",
   "execution_count": 5,
   "metadata": {
    "collapsed": false,
    "scrolled": true
   },
   "outputs": [
    {
     "name": "stderr",
     "output_type": "stream",
     "text": [
      "2016-04-04 15:46:01,558 INFO    :         Target - Using base path: /home/micgio01/work/lisa\n",
      "2016-04-04 15:46:01,559 INFO    :         Target - Loading custom (inline) target configuration\n",
      "2016-04-04 15:46:01,560 DEBUG   :         Target - Target configuration {'username': 'root', 'platform': 'linux', 'host': '10.1.205.160', 'ftrace': {'buffsize': 10240, 'events': ['cpu_frequency', 'sched_switch']}, 'board': 'juno', 'rtapp-calib': {'1': 125, '0': 318, '3': 318, '2': 124, '5': 319, '4': 318}, 'exclude_modules': ['hwmon'], 'password': '', 'tools': ['rt-app', 'trace-cmd']}\n",
      "2016-04-04 15:46:01,561 INFO    :         Target - Devlib modules to load: ['bl', 'cpufreq']\n",
      "2016-04-04 15:46:01,562 INFO    :         Target - Connecting linux target:\n",
      "2016-04-04 15:46:01,562 INFO    :         Target -   username : root\n",
      "2016-04-04 15:46:01,563 INFO    :         Target -       host : 10.1.205.160\n",
      "2016-04-04 15:46:01,564 INFO    :         Target -   password : \n",
      "2016-04-04 15:46:01,564 DEBUG   :         Target - Setup LINUX target...\n",
      "2016-04-04 15:46:01,571 DEBUG   : Installing module vexpress-u-boot\n",
      "2016-04-04 15:46:01,572 DEBUG   : Installing module vexpress-dtr\n",
      "2016-04-04 15:46:01,572 DEBUG   : Installing module vexpress-vemsd\n",
      "2016-04-04 15:46:01,573 DEBUG   : Logging in root@10.1.205.160\n",
      "2016-04-04 15:46:02,964 DEBUG   : id\n",
      "2016-04-04 15:46:03,374 DEBUG   : if [ -e '/root/devlib-target/bin' ]; then echo 1; else echo 0; fi\n",
      "2016-04-04 15:46:03,781 DEBUG   : ls -1 /root/devlib-target/bin\n",
      "2016-04-04 15:46:04,191 DEBUG   : cat /proc/cpuinfo\n",
      "2016-04-04 15:46:04,601 DEBUG   : sudo -- sh -c 'dmidecode -s system-version'\n",
      "2016-04-04 15:46:04,992 DEBUG   : Installing module bl\n",
      "2016-04-04 15:46:05,093 DEBUG   : /root/devlib-target/bin/busybox uname -m\n",
      "2016-04-04 15:46:05,583 DEBUG   : if [ -e '/sys/devices/system/cpu/cpufreq' ]; then echo 1; else echo 0; fi\n",
      "2016-04-04 15:46:05,890 DEBUG   : Installing module cpufreq\n",
      "2016-04-04 15:46:05,891 DEBUG   :         Target - Checking target connection...\n",
      "2016-04-04 15:46:05,891 DEBUG   :         Target - Target info:\n",
      "2016-04-04 15:46:05,892 DEBUG   :         Target -       ABI: arm64\n",
      "2016-04-04 15:46:05,893 DEBUG   :         Target -      CPUs: CpuInfo(['A53', 'A72', 'A72', 'A53', 'A53', 'A53'])\n",
      "2016-04-04 15:46:05,893 DEBUG   :         Target -  Clusters: [0, 1, 1, 0, 0, 0]\n",
      "2016-04-04 15:46:05,994 DEBUG   : sudo -- sh -c 'mount -o remount,rw /'\n",
      "2016-04-04 15:46:06,320 INFO    :         Target - Initializing target workdir:\n",
      "2016-04-04 15:46:06,321 INFO    :         Target -    /root/devlib-target\n",
      "2016-04-04 15:46:06,422 DEBUG   : mkdir -p /root/devlib-target\n",
      "2016-04-04 15:46:06,831 DEBUG   : mkdir -p /root/devlib-target/bin\n",
      "2016-04-04 15:46:07,139 DEBUG   : /usr/bin/scp -r   /home/micgio01/work/lisa/libs/devlib/devlib/bin/arm64/busybox root@10.1.205.160:/root/devlib-target/bin/busybox\n",
      "2016-04-04 15:46:07,656 DEBUG   : chmod a+x /root/devlib-target/bin/busybox\n",
      "2016-04-04 15:46:07,965 DEBUG   : /usr/bin/scp -r   /home/micgio01/work/lisa/libs/devlib/devlib/bin/scripts/shutils root@10.1.205.160:/root/devlib-target/bin/shutils\n",
      "2016-04-04 15:46:08,228 DEBUG   : chmod a+x /root/devlib-target/bin/shutils\n",
      "2016-04-04 15:46:08,537 DEBUG   : /usr/bin/scp -r   /home/micgio01/work/lisa/tools/arm64/taskset root@10.1.205.160:/root/devlib-target/bin/taskset\n",
      "2016-04-04 15:46:08,844 DEBUG   : chmod a+x /root/devlib-target/bin/taskset\n",
      "2016-04-04 15:46:09,153 DEBUG   : /usr/bin/scp -r   /home/micgio01/work/lisa/tools/scripts/cgroup_run_into.sh root@10.1.205.160:/root/devlib-target/bin/cgroup_run_into.sh\n",
      "2016-04-04 15:46:09,416 DEBUG   : chmod a+x /root/devlib-target/bin/cgroup_run_into.sh\n",
      "2016-04-04 15:46:09,725 DEBUG   : /usr/bin/scp -r   /home/micgio01/work/lisa/tools/arm64/trace-cmd root@10.1.205.160:/root/devlib-target/bin/trace-cmd\n",
      "2016-04-04 15:46:10,901 DEBUG   : chmod a+x /root/devlib-target/bin/trace-cmd\n",
      "2016-04-04 15:46:11,210 DEBUG   : /usr/bin/scp -r   /home/micgio01/work/lisa/tools/arm64/rt-app root@10.1.205.160:/root/devlib-target/bin/rt-app\n",
      "2016-04-04 15:46:11,595 DEBUG   : chmod a+x /root/devlib-target/bin/rt-app\n",
      "2016-04-04 15:46:11,903 DEBUG   : /usr/bin/scp -r   /home/micgio01/work/lisa/tools/arm64/perf root@10.1.205.160:/root/devlib-target/bin/perf\n",
      "2016-04-04 15:46:14,966 DEBUG   : chmod a+x /root/devlib-target/bin/perf\n",
      "2016-04-04 15:46:15,274 DEBUG   :         Target - Check for module [bl]...\n",
      "2016-04-04 15:46:15,275 DEBUG   :         Target - Check for module [cpufreq]...\n",
      "2016-04-04 15:46:15,276 INFO    :         Target - Topology:\n",
      "2016-04-04 15:46:15,277 INFO    :         Target -    [[0, 3, 4, 5], [1, 2]]\n",
      "2016-04-04 15:46:15,379 DEBUG   : sudo -- sh -c 'cat '\\''/sys/devices/system/cpu/online'\\'''\n",
      "2016-04-04 15:46:15,797 DEBUG   : cat /sys/devices/system/cpu/cpu0/cpufreq/scaling_available_frequencies\n",
      "2016-04-04 15:46:16,206 DEBUG   : sudo -- sh -c 'cat '\\''/sys/devices/system/cpu/online'\\'''\n",
      "2016-04-04 15:46:16,625 DEBUG   : cat /sys/devices/system/cpu/cpu1/cpufreq/scaling_available_frequencies\n",
      "2016-04-04 15:46:16,932 DEBUG   :       Platform - Trying to load default EM from /home/micgio01/work/lisa/libs/utils/platforms/juno.json\n",
      "2016-04-04 15:46:16,933 INFO    :       Platform - Loading default EM:\n",
      "2016-04-04 15:46:16,934 INFO    :       Platform -    /home/micgio01/work/lisa/libs/utils/platforms/juno.json\n",
      "2016-04-04 15:46:16,935 DEBUG   : loading JSON...\n",
      "2016-04-04 15:46:16,937 DEBUG   : Loaded JSON configuration:\n",
      "{u'nrg_model': {u'big': {u'cluster': {u'nrg_max': 64}, u'cpu': {u'cap_max': 1024, u'nrg_max': 616}}, u'little': {u'cluster': {u'nrg_max': 57}, u'cpu': {u'cap_max': 447, u'nrg_max': 93}}}}\n",
      "2016-04-04 15:46:16,937 DEBUG   :       Platform - Platform descriptor initialized\n",
      "{'nrg_model': {u'big': {u'cluster': {u'nrg_max': 64}, u'cpu': {u'cap_max': 1024, u'nrg_max': 616}}, u'little': {u'cluster': {u'nrg_max': 57}, u'cpu': {u'cap_max': 447, u'nrg_max': 93}}}, 'clusters': {'big': [1, 2], 'little': [0, 3, 4, 5]}, 'cpus_count': 6, 'freqs': {'big': [600000, 1000000, 1200000], 'little': [450000, 800000, 950000]}, 'topology': [[0, 3, 4, 5], [1, 2]]}\n",
      "2016-04-04 15:46:16,950 DEBUG   : /usr/bin/scp -r   /home/micgio01/work/lisa/libs/devlib/devlib/bin/arm64/trace-cmd root@10.1.205.160:/root/devlib-target/bin/trace-cmd\n",
      "2016-04-04 15:46:19,211 DEBUG   : chmod a+x /root/devlib-target/bin/trace-cmd\n",
      "2016-04-04 15:46:19,621 DEBUG   : cat /sys/kernel/debug/tracing/available_events\n",
      "2016-04-04 15:46:19,939 INFO    :         FTrace - Enabled tracepoints:\n",
      "2016-04-04 15:46:19,940 INFO    :         FTrace -   cpu_frequency\n",
      "2016-04-04 15:46:19,940 INFO    :         FTrace -   sched_switch\n",
      "2016-04-04 15:46:19,941 DEBUG   :    EnergyMeter - using default energy meter for [juno]\n",
      "2016-04-04 15:46:19,941 INFO    :    EnergyMeter - HWMON module not enabled\n",
      "2016-04-04 15:46:19,942 WARNING :    EnergyMeter - Energy sampling disabled by configuration\n",
      "2016-04-04 15:46:19,943 WARNING :         Target - Using configuration provided RTApp calibration\n",
      "2016-04-04 15:46:19,944 INFO    :         Target - Using RT-App calibration values:\n",
      "2016-04-04 15:46:19,944 INFO    :         Target -    {\"0\": 318, \"1\": 125, \"2\": 124, \"3\": 318, \"4\": 318, \"5\": 319}\n",
      "2016-04-04 15:46:19,945 INFO    :        TestEnv - Set results folder to:\n",
      "2016-04-04 15:46:19,946 INFO    :        TestEnv -    /home/micgio01/work/lisa/results/20160404_154619\n",
      "2016-04-04 15:46:19,946 INFO    :        TestEnv - Experiment results available also in:\n",
      "2016-04-04 15:46:19,947 INFO    :        TestEnv -    /home/micgio01/work/lisa/results_latest\n"
     ]
    }
   ],
   "source": [
    "# Initialize a test environment using:\n",
    "# the provided target configuration (my_target_conf)\n",
    "te = TestEnv(target_conf=my_target_conf)\n",
    "target = te.target"
   ]
  },
  {
   "cell_type": "markdown",
   "metadata": {},
   "source": [
    "# Change `cpufreq` governor"
   ]
  },
  {
   "cell_type": "markdown",
   "metadata": {},
   "source": [
    "Setting the target `cpufreq` governor to `ondemand` so that frequency changes when the load changes."
   ]
  },
  {
   "cell_type": "code",
   "execution_count": 6,
   "metadata": {
    "collapsed": false
   },
   "outputs": [
    {
     "name": "stderr",
     "output_type": "stream",
     "text": [
      "2016-04-04 15:46:20,053 DEBUG   : sudo -- sh -c '/root/devlib-target/bin/shutils cpufreq_set_all_governors ondemand'\n"
     ]
    }
   ],
   "source": [
    "target.cpufreq.set_all_governors('ondemand');"
   ]
  },
  {
   "cell_type": "markdown",
   "metadata": {},
   "source": [
    "# Workloads configuration"
   ]
  },
  {
   "cell_type": "code",
   "execution_count": 16,
   "metadata": {
    "collapsed": false,
    "scrolled": true
   },
   "outputs": [
    {
     "name": "stderr",
     "output_type": "stream",
     "text": [
      "2016-04-04 15:50:00,200 INFO    :          WlGen - Setup new workload nrg_wload\n",
      "2016-04-04 15:50:00,201 DEBUG   :          WlGen - Setup step [postrun] callback to [__postrun] function\n",
      "2016-04-04 15:50:00,201 DEBUG   :          WlGen - Configuring a profile-based workload...\n",
      "2016-04-04 15:50:00,202 DEBUG   :          RTApp - ref on big cpu: 1\n",
      "2016-04-04 15:50:00,202 INFO    :          RTApp - Workload duration defined by longest task\n",
      "2016-04-04 15:50:00,203 INFO    :          RTApp - Default policy: SCHED_OTHER\n",
      "2016-04-04 15:50:00,203 INFO    :          RTApp - ------------------------\n",
      "2016-04-04 15:50:00,203 INFO    :          RTApp - task [task_ramp_10], sched: using default policy\n",
      "2016-04-04 15:50:00,204 INFO    :          RTApp -  | calibration CPU: 1\n",
      "2016-04-04 15:50:00,204 INFO    :          RTApp -  | loops count: 1\n",
      "2016-04-04 15:50:00,204 INFO    :          RTApp - + phase_000001: duration 1.000000 [s] (5 loops)\n",
      "2016-04-04 15:50:00,205 INFO    :          RTApp - |  period   200000 [us], duty_cycle  10 %\n",
      "2016-04-04 15:50:00,205 INFO    :          RTApp - |  run_time  20000 [us], sleep_time 180000 [us]\n",
      "2016-04-04 15:50:00,205 INFO    :          RTApp - + phase_000002: duration 1.000000 [s] (5 loops)\n",
      "2016-04-04 15:50:00,206 INFO    :          RTApp - |  period   200000 [us], duty_cycle  20 %\n",
      "2016-04-04 15:50:00,206 INFO    :          RTApp - |  run_time  40000 [us], sleep_time 160000 [us]\n",
      "2016-04-04 15:50:00,206 INFO    :          RTApp - + phase_000003: duration 1.000000 [s] (5 loops)\n",
      "2016-04-04 15:50:00,207 INFO    :          RTApp - |  period   200000 [us], duty_cycle  30 %\n",
      "2016-04-04 15:50:00,207 INFO    :          RTApp - |  run_time  60000 [us], sleep_time 140000 [us]\n",
      "2016-04-04 15:50:00,207 INFO    :          RTApp - + phase_000004: duration 1.000000 [s] (5 loops)\n",
      "2016-04-04 15:50:00,208 INFO    :          RTApp - |  period   200000 [us], duty_cycle  40 %\n",
      "2016-04-04 15:50:00,208 INFO    :          RTApp - |  run_time  80000 [us], sleep_time 120000 [us]\n",
      "2016-04-04 15:50:00,208 INFO    :          RTApp - + phase_000005: duration 1.000000 [s] (5 loops)\n",
      "2016-04-04 15:50:00,209 INFO    :          RTApp - |  period   200000 [us], duty_cycle  50 %\n",
      "2016-04-04 15:50:00,209 INFO    :          RTApp - |  run_time 100000 [us], sleep_time 100000 [us]\n",
      "2016-04-04 15:50:00,209 INFO    :          RTApp - + phase_000006: duration 1.000000 [s] (5 loops)\n",
      "2016-04-04 15:50:00,210 INFO    :          RTApp - |  period   200000 [us], duty_cycle  60 %\n",
      "2016-04-04 15:50:00,210 INFO    :          RTApp - |  run_time 120000 [us], sleep_time  80000 [us]\n",
      "2016-04-04 15:50:00,210 INFO    :          RTApp - + phase_000007: duration 1.000000 [s] (5 loops)\n",
      "2016-04-04 15:50:00,211 INFO    :          RTApp - |  period   200000 [us], duty_cycle  70 %\n",
      "2016-04-04 15:50:00,211 INFO    :          RTApp - |  run_time 140000 [us], sleep_time  60000 [us]\n",
      "2016-04-04 15:50:00,211 INFO    :          RTApp - + phase_000008: duration 1.000000 [s] (5 loops)\n",
      "2016-04-04 15:50:00,212 INFO    :          RTApp - |  period   200000 [us], duty_cycle  80 %\n",
      "2016-04-04 15:50:00,212 INFO    :          RTApp - |  run_time 160000 [us], sleep_time  40000 [us]\n",
      "2016-04-04 15:50:00,212 INFO    :          RTApp - + phase_000009: duration 1.000000 [s] (5 loops)\n",
      "2016-04-04 15:50:00,213 INFO    :          RTApp - |  period   200000 [us], duty_cycle  90 %\n",
      "2016-04-04 15:50:00,213 INFO    :          RTApp - |  run_time 180000 [us], sleep_time  20000 [us]\n",
      "2016-04-04 15:50:00,213 INFO    :          RTApp -  + phase_000010: batch 1.000000 [s]\n",
      "2016-04-04 15:50:00,214 INFO    :          RTApp - ------------------------\n",
      "2016-04-04 15:50:00,214 INFO    :          RTApp - task [task_ramp_5], sched: using default policy\n",
      "2016-04-04 15:50:00,214 INFO    :          RTApp -  | calibration CPU: 1\n",
      "2016-04-04 15:50:00,214 INFO    :          RTApp -  | loops count: 1\n",
      "2016-04-04 15:50:00,215 INFO    :          RTApp - + phase_000001: duration 1.000000 [s] (5 loops)\n",
      "2016-04-04 15:50:00,215 INFO    :          RTApp - |  period   200000 [us], duty_cycle  10 %\n",
      "2016-04-04 15:50:00,215 INFO    :          RTApp - |  run_time  20000 [us], sleep_time 180000 [us]\n",
      "2016-04-04 15:50:00,216 INFO    :          RTApp - + phase_000002: duration 1.000000 [s] (5 loops)\n",
      "2016-04-04 15:50:00,216 INFO    :          RTApp - |  period   200000 [us], duty_cycle  15 %\n",
      "2016-04-04 15:50:00,216 INFO    :          RTApp - |  run_time  30000 [us], sleep_time 170000 [us]\n",
      "2016-04-04 15:50:00,217 INFO    :          RTApp - + phase_000003: duration 1.000000 [s] (5 loops)\n",
      "2016-04-04 15:50:00,217 INFO    :          RTApp - |  period   200000 [us], duty_cycle  20 %\n",
      "2016-04-04 15:50:00,217 INFO    :          RTApp - |  run_time  40000 [us], sleep_time 160000 [us]\n",
      "2016-04-04 15:50:00,218 INFO    :          RTApp - + phase_000004: duration 1.000000 [s] (5 loops)\n",
      "2016-04-04 15:50:00,218 INFO    :          RTApp - |  period   200000 [us], duty_cycle  25 %\n",
      "2016-04-04 15:50:00,218 INFO    :          RTApp - |  run_time  50000 [us], sleep_time 150000 [us]\n",
      "2016-04-04 15:50:00,219 INFO    :          RTApp - + phase_000005: duration 1.000000 [s] (5 loops)\n",
      "2016-04-04 15:50:00,219 INFO    :          RTApp - |  period   200000 [us], duty_cycle  30 %\n",
      "2016-04-04 15:50:00,219 INFO    :          RTApp - |  run_time  60000 [us], sleep_time 140000 [us]\n",
      "2016-04-04 15:50:00,220 INFO    :          RTApp - + phase_000006: duration 1.000000 [s] (5 loops)\n",
      "2016-04-04 15:50:00,220 INFO    :          RTApp - |  period   200000 [us], duty_cycle  35 %\n",
      "2016-04-04 15:50:00,220 INFO    :          RTApp - |  run_time  70000 [us], sleep_time 130000 [us]\n",
      "2016-04-04 15:50:00,220 INFO    :          RTApp - + phase_000007: duration 1.000000 [s] (5 loops)\n",
      "2016-04-04 15:50:00,221 INFO    :          RTApp - |  period   200000 [us], duty_cycle  40 %\n",
      "2016-04-04 15:50:00,221 INFO    :          RTApp - |  run_time  80000 [us], sleep_time 120000 [us]\n",
      "2016-04-04 15:50:00,221 INFO    :          RTApp - + phase_000008: duration 1.000000 [s] (5 loops)\n",
      "2016-04-04 15:50:00,222 INFO    :          RTApp - |  period   200000 [us], duty_cycle  45 %\n",
      "2016-04-04 15:50:00,222 INFO    :          RTApp - |  run_time  90000 [us], sleep_time 110000 [us]\n",
      "2016-04-04 15:50:00,222 INFO    :          RTApp - + phase_000009: duration 1.000000 [s] (5 loops)\n",
      "2016-04-04 15:50:00,223 INFO    :          RTApp - |  period   200000 [us], duty_cycle  50 %\n",
      "2016-04-04 15:50:00,223 INFO    :          RTApp - |  run_time 100000 [us], sleep_time 100000 [us]\n",
      "2016-04-04 15:50:00,223 INFO    :          RTApp - + phase_000010: duration 1.000000 [s] (5 loops)\n",
      "2016-04-04 15:50:00,224 INFO    :          RTApp - |  period   200000 [us], duty_cycle  55 %\n",
      "2016-04-04 15:50:00,224 INFO    :          RTApp - |  run_time 110000 [us], sleep_time  90000 [us]\n",
      "2016-04-04 15:50:00,224 INFO    :          RTApp - + phase_000011: duration 1.000000 [s] (5 loops)\n",
      "2016-04-04 15:50:00,225 INFO    :          RTApp - |  period   200000 [us], duty_cycle  60 %\n",
      "2016-04-04 15:50:00,225 INFO    :          RTApp - |  run_time 120000 [us], sleep_time  80000 [us]\n",
      "2016-04-04 15:50:00,225 INFO    :          RTApp - + phase_000012: duration 1.000000 [s] (5 loops)\n",
      "2016-04-04 15:50:00,226 INFO    :          RTApp - |  period   200000 [us], duty_cycle  65 %\n",
      "2016-04-04 15:50:00,226 INFO    :          RTApp - |  run_time 130000 [us], sleep_time  70000 [us]\n",
      "2016-04-04 15:50:00,226 INFO    :          RTApp - + phase_000013: duration 1.000000 [s] (5 loops)\n",
      "2016-04-04 15:50:00,226 INFO    :          RTApp - |  period   200000 [us], duty_cycle  70 %\n",
      "2016-04-04 15:50:00,227 INFO    :          RTApp - |  run_time 140000 [us], sleep_time  60000 [us]\n",
      "2016-04-04 15:50:00,227 INFO    :          RTApp - + phase_000014: duration 1.000000 [s] (5 loops)\n",
      "2016-04-04 15:50:00,227 INFO    :          RTApp - |  period   200000 [us], duty_cycle  75 %\n",
      "2016-04-04 15:50:00,228 INFO    :          RTApp - |  run_time 150000 [us], sleep_time  50000 [us]\n",
      "2016-04-04 15:50:00,228 INFO    :          RTApp - + phase_000015: duration 1.000000 [s] (5 loops)\n",
      "2016-04-04 15:50:00,228 INFO    :          RTApp - |  period   200000 [us], duty_cycle  80 %\n",
      "2016-04-04 15:50:00,229 INFO    :          RTApp - |  run_time 160000 [us], sleep_time  40000 [us]\n",
      "2016-04-04 15:50:00,229 INFO    :          RTApp - + phase_000016: duration 1.000000 [s] (5 loops)\n",
      "2016-04-04 15:50:00,229 INFO    :          RTApp - |  period   200000 [us], duty_cycle  85 %\n",
      "2016-04-04 15:50:00,230 INFO    :          RTApp - |  run_time 170000 [us], sleep_time  30000 [us]\n",
      "2016-04-04 15:50:00,230 INFO    :          RTApp - + phase_000017: duration 1.000000 [s] (5 loops)\n",
      "2016-04-04 15:50:00,230 INFO    :          RTApp - |  period   200000 [us], duty_cycle  90 %\n",
      "2016-04-04 15:50:00,230 INFO    :          RTApp - |  run_time 180000 [us], sleep_time  20000 [us]\n",
      "2016-04-04 15:50:00,231 INFO    :          RTApp - + phase_000018: duration 1.000000 [s] (5 loops)\n",
      "2016-04-04 15:50:00,231 INFO    :          RTApp - |  period   200000 [us], duty_cycle  95 %\n",
      "2016-04-04 15:50:00,231 INFO    :          RTApp - |  run_time 190000 [us], sleep_time  10000 [us]\n",
      "2016-04-04 15:50:00,232 INFO    :          RTApp -  + phase_000019: batch 1.000000 [s]\n",
      "2016-04-04 15:50:00,233 DEBUG   : /usr/bin/scp -r   nrg_wload_00.json root@10.1.205.160:/root/devlib-target\n"
     ]
    }
   ],
   "source": [
    "# Create a new RTApp workload generator\n",
    "rtapp = RTA(target, 'nrg_wload', calibration=te.calibration())\n",
    "\n",
    "# Configure this RTApp instance to:\n",
    "rtapp.conf(\n",
    "    # 1. generate a \"profile based\" set of tasks\n",
    "    kind='profile',\n",
    "    \n",
    "    # 2. define the \"profile\" of each task\n",
    "    params={\n",
    "        'task_ramp_5': Ramp(\n",
    "            period_ms=200,         # period\n",
    "            start_pct=10,          # initial_load\n",
    "            delta_pct=5,           # load % increase...\n",
    "            time_s=1               # ... every 1[s]\n",
    "        ).get(),\n",
    "        \n",
    "        'task_ramp_10': Ramp(\n",
    "            period_ms=200,\n",
    "            start_pct=10,\n",
    "            delta_pct=10,\n",
    "            time_s=1\n",
    "        ).get()\n",
    "    },\n",
    "    \n",
    "    run_dir=target.working_directory\n",
    "    \n",
    ");"
   ]
  },
  {
   "cell_type": "markdown",
   "metadata": {},
   "source": [
    "# Workload execution"
   ]
  },
  {
   "cell_type": "code",
   "execution_count": 17,
   "metadata": {
    "collapsed": false,
    "scrolled": true
   },
   "outputs": [
    {
     "name": "stderr",
     "output_type": "stream",
     "text": [
      "2016-04-04 15:50:01,200 INFO    : #### Setup FTrace\n",
      "2016-04-04 15:50:01,302 DEBUG   : sudo -- sh -c 'echo 10240 > '\\''/sys/kernel/debug/tracing/buffer_size_kb'\\'''\n",
      "2016-04-04 15:50:01,541 DEBUG   : sudo -- sh -c 'cat '\\''/sys/kernel/debug/tracing/buffer_size_kb'\\'''\n",
      "2016-04-04 15:50:01,973 DEBUG   : sudo -- sh -c '/root/devlib-target/bin/trace-cmd reset'\n",
      "2016-04-04 15:50:03,146 DEBUG   : sudo -- sh -c '/root/devlib-target/bin/trace-cmd start -e cpu_frequency -e sched_switch'\n",
      "2016-04-04 15:50:04,317 DEBUG   : sudo -- sh -c 'echo TRACE_MARKER_START > '\\''/sys/kernel/debug/tracing/trace_marker'\\'''\n",
      "2016-04-04 15:50:04,443 DEBUG   : Trace CPUFreq frequencies\n",
      "2016-04-04 15:50:04,545 DEBUG   : sudo -- sh -c '/root/devlib-target/bin/shutils cpufreq_trace_all_frequencies'\n",
      "2016-04-04 15:50:04,892 INFO    : #### Start RTApp execution\n",
      "2016-04-04 15:50:04,893 INFO    :          WlGen - Workload execution START:\n",
      "2016-04-04 15:50:04,894 INFO    :          WlGen -    /root/devlib-target/bin/rt-app /root/devlib-target/nrg_wload_00.json\n",
      "2016-04-04 15:50:04,995 DEBUG   : /root/devlib-target/bin/rt-app /root/devlib-target/nrg_wload_00.json\n",
      "2016-04-04 15:50:24,498 DEBUG   :          WlGen - Callback [postrun]...\n",
      "2016-04-04 15:50:24,499 DEBUG   :          RTApp - Pulling logfiles to [/home/micgio01/work/lisa/results/20160404_154619]...\n",
      "2016-04-04 15:50:24,499 DEBUG   : /usr/bin/scp -r   root@10.1.205.160:'/root/devlib-target/*task_ramp_5*.log' /home/micgio01/work/lisa/results/20160404_154619\n",
      "2016-04-04 15:50:24,666 DEBUG   : /usr/bin/scp -r   root@10.1.205.160:'/root/devlib-target/*task_ramp_10*.log' /home/micgio01/work/lisa/results/20160404_154619\n",
      "2016-04-04 15:50:24,840 DEBUG   :          RTApp - Pulling JSON to [/home/micgio01/work/lisa/results/20160404_154619]...\n",
      "2016-04-04 15:50:24,841 DEBUG   : /usr/bin/scp -r   root@10.1.205.160:/root/devlib-target/nrg_wload_00.json /home/micgio01/work/lisa/results/20160404_154619\n",
      "2016-04-04 15:50:25,012 DEBUG   :          RTApp - Saving output on [/home/micgio01/work/lisa/results/20160404_154619/output.log]...\n",
      "2016-04-04 15:50:25,014 DEBUG   :          WlGen - Workload execution COMPLETED\n",
      "2016-04-04 15:50:25,015 INFO    : #### Stop FTrace\n",
      "2016-04-04 15:50:25,016 DEBUG   : Trace CPUFreq frequencies\n",
      "2016-04-04 15:50:25,117 DEBUG   : sudo -- sh -c '/root/devlib-target/bin/shutils cpufreq_trace_all_frequencies'\n",
      "2016-04-04 15:50:25,555 DEBUG   : sudo -- sh -c 'echo TRACE_MARKER_STOP > '\\''/sys/kernel/debug/tracing/trace_marker'\\'''\n",
      "2016-04-04 15:50:25,776 DEBUG   : sudo -- sh -c '/root/devlib-target/bin/trace-cmd stop'\n"
     ]
    }
   ],
   "source": [
    "logging.info('#### Setup FTrace')\n",
    "te.ftrace.start()\n",
    "\n",
    "logging.info('#### Start RTApp execution')\n",
    "rtapp.run(out_dir=te.res_dir)\n",
    "\n",
    "logging.info('#### Stop FTrace')\n",
    "te.ftrace.stop()"
   ]
  },
  {
   "cell_type": "markdown",
   "metadata": {
    "collapsed": false
   },
   "source": [
    "# Trace Analysis"
   ]
  },
  {
   "cell_type": "code",
   "execution_count": 18,
   "metadata": {
    "collapsed": false
   },
   "outputs": [
    {
     "name": "stderr",
     "output_type": "stream",
     "text": [
      "2016-04-04 15:50:26,114 INFO    : #### Save FTrace: /home/micgio01/work/lisa/results/20160404_154619/trace.dat\n",
      "2016-04-04 15:50:26,216 DEBUG   : sudo -- sh -c '/root/devlib-target/bin/trace-cmd extract -o /root/devlib-target/trace.dat'\n",
      "2016-04-04 15:50:27,718 DEBUG   : /usr/bin/scp -r   root@10.1.205.160:/root/devlib-target/trace.dat /home/micgio01/work/lisa/results/20160404_154619/trace.dat\n"
     ]
    }
   ],
   "source": [
    "# Collect the trace\n",
    "trace_file = os.path.join(te.res_dir, 'trace.dat')\n",
    "logging.info('#### Save FTrace: %s', trace_file)\n",
    "te.ftrace.get_trace(trace_file)\n",
    "# Parse trace\n",
    "nrg_trace = trappy.FTrace(trace_file)"
   ]
  },
  {
   "cell_type": "markdown",
   "metadata": {
    "collapsed": false
   },
   "source": [
    "We can plot a timing diagram of the tasks running on each CPU with:"
   ]
  },
  {
   "cell_type": "code",
   "execution_count": 19,
   "metadata": {
    "collapsed": false
   },
   "outputs": [
    {
     "data": {
      "text/html": [
       "<style>\n",
       "/*\n",
       "\n",
       " *    Copyright 2015-2016 ARM Limited\n",
       "\n",
       " *\n",
       "\n",
       " * Licensed under the Apache License, Version 2.0 (the \"License\");\n",
       "\n",
       " * you may not use this file except in compliance with the License.\n",
       "\n",
       " * You may obtain a copy of the License at\n",
       "\n",
       " *\n",
       "\n",
       " *     http://www.apache.org/licenses/LICENSE-2.0\n",
       "\n",
       " *\n",
       "\n",
       " * Unless required by applicable law or agreed to in writing, software\n",
       "\n",
       " * distributed under the License is distributed on an \"AS IS\" BASIS,\n",
       "\n",
       " * WITHOUT WARRANTIES OR CONDITIONS OF ANY KIND, either express or implied.\n",
       "\n",
       " * See the License for the specific language governing permissions and\n",
       "\n",
       " * limitations under the License.\n",
       "\n",
       " */\n",
       "\n",
       "\n",
       "\n",
       ".d3-tip {\n",
       "\n",
       "  line-height: 1;\n",
       "\n",
       "  padding: 12px;\n",
       "\n",
       "  background: rgba(0, 0, 0, 0.6);\n",
       "\n",
       "  color: #fff;\n",
       "\n",
       "  border-radius: 2px;\n",
       "\n",
       "  position: absolute !important;\n",
       "\n",
       "  z-index: 99999;\n",
       "\n",
       "}\n",
       "\n",
       "\n",
       "\n",
       ".d3-tip:after {\n",
       "\n",
       "  box-sizing: border-box;\n",
       "\n",
       "  pointer-events: none;\n",
       "\n",
       "  display: inline;\n",
       "\n",
       "  font-size: 10px;\n",
       "\n",
       "  width: 100%;\n",
       "\n",
       "  line-height: 1;\n",
       "\n",
       "  color: rgba(0, 0, 0, 0.6);\n",
       "\n",
       "  content: \"\\25BC\";\n",
       "\n",
       "  position: absolute !important;\n",
       "\n",
       "  z-index: 99999;\n",
       "\n",
       "  text-align: center;\n",
       "\n",
       "}\n",
       "\n",
       "\n",
       "\n",
       ".d3-tip.n:after {\n",
       "\n",
       "  margin: -1px 0 0 0;\n",
       "\n",
       "  top: 100%;\n",
       "\n",
       "  left: 0;\n",
       "\n",
       "}\n",
       "\n",
       "\n",
       "\n",
       ".contextRect {\n",
       "\n",
       "  fill: lightgray;\n",
       "\n",
       "  fill-opacity: 0.5;\n",
       "\n",
       "  stroke: black;\n",
       "\n",
       "  stroke-width: 1;\n",
       "\n",
       "  stroke-opacity: 1;\n",
       "\n",
       "  pointer-events: none;\n",
       "\n",
       "  shape-rendering: crispEdges;\n",
       "\n",
       "}\n",
       "\n",
       "\n",
       "\n",
       ".chart {\n",
       "\n",
       "  shape-rendering: crispEdges;\n",
       "\n",
       "}\n",
       "\n",
       "\n",
       "\n",
       ".mini text {\n",
       "\n",
       "  font: 9px sans-serif;\n",
       "\n",
       "}\n",
       "\n",
       "\n",
       "\n",
       ".main text {\n",
       "\n",
       "  font: 12px sans-serif;\n",
       "\n",
       "}\n",
       "\n",
       "\n",
       "\n",
       ".axis line, .axis path {\n",
       "\n",
       "  stroke: black;\n",
       "\n",
       "}\n",
       "\n",
       "\n",
       "\n",
       ".miniItem {\n",
       "\n",
       "  stroke-width: 8;\n",
       "\n",
       "}\n",
       "\n",
       "\n",
       "\n",
       ".brush .extent {\n",
       "\n",
       "\n",
       "\n",
       "  stroke: #000;\n",
       "\n",
       "  fill-opacity: .125;\n",
       "\n",
       "  shape-rendering: crispEdges;\n",
       "\n",
       "}\n",
       "\n",
       "</style>\n",
       "<div id=\"fig_23667cf90b83414fbb486b42b57c6091\" class=\"eventplot\">\n",
       "        <script>\n",
       "            var req = require.config( {\n",
       "\n",
       "                paths: {\n",
       "\n",
       "                    \"EventPlot\": '/nbextensions/plotter_scripts/EventPlot/EventPlot',\n",
       "                    \"d3-tip\": '/nbextensions/plotter_scripts/EventPlot/d3.tip.v0.6.3',\n",
       "                    \"d3-plotter\": '/nbextensions/plotter_scripts/EventPlot/d3.min'\n",
       "                },\n",
       "                shim: {\n",
       "                    \"d3-plotter\" : {\n",
       "                        \"exports\" : \"d3\"\n",
       "                    },\n",
       "                    \"d3-tip\": [\"d3-plotter\"],\n",
       "                    \"EventPlot\": {\n",
       "\n",
       "                        \"deps\": [\"d3-tip\", \"d3-plotter\" ],\n",
       "                        \"exports\":  \"EventPlot\"\n",
       "                    }\n",
       "                }\n",
       "            });\n",
       "            req([\"require\", \"EventPlot\"], function() {\n",
       "               EventPlot.generate('fig_23667cf90b83414fbb486b42b57c6091', '/nbextensions/');\n",
       "            });\n",
       "        </script>\n",
       "        </div>"
      ],
      "text/plain": [
       "<IPython.core.display.HTML object>"
      ]
     },
     "metadata": {},
     "output_type": "display_data"
    }
   ],
   "source": [
    "trappy.plotter.plot_trace(nrg_trace)"
   ]
  },
  {
   "cell_type": "markdown",
   "metadata": {},
   "source": [
    "# Energy Calculation"
   ]
  },
  {
   "cell_type": "code",
   "execution_count": 20,
   "metadata": {
    "collapsed": false
   },
   "outputs": [],
   "source": [
    "cpu0_freqs = nrg_trace.cpu_frequency.data_frame[nrg_trace.cpu_frequency.data_frame['cpu'] == 0]"
   ]
  },
  {
   "cell_type": "code",
   "execution_count": 21,
   "metadata": {
    "collapsed": false
   },
   "outputs": [
    {
     "data": {
      "text/html": [
       "<div>\n",
       "<table border=\"1\" class=\"dataframe\">\n",
       "  <thead>\n",
       "    <tr style=\"text-align: right;\">\n",
       "      <th></th>\n",
       "      <th>__comm</th>\n",
       "      <th>__cpu</th>\n",
       "      <th>__pid</th>\n",
       "      <th>cpu</th>\n",
       "      <th>frequency</th>\n",
       "    </tr>\n",
       "    <tr>\n",
       "      <th>Time</th>\n",
       "      <th></th>\n",
       "      <th></th>\n",
       "      <th></th>\n",
       "      <th></th>\n",
       "      <th></th>\n",
       "    </tr>\n",
       "  </thead>\n",
       "  <tbody>\n",
       "    <tr>\n",
       "      <th>0.000000</th>\n",
       "      <td>shutils</td>\n",
       "      <td>2</td>\n",
       "      <td>1247</td>\n",
       "      <td>0</td>\n",
       "      <td>450000</td>\n",
       "    </tr>\n",
       "    <tr>\n",
       "      <th>1.944862</th>\n",
       "      <td>kworker/0:1</td>\n",
       "      <td>0</td>\n",
       "      <td>853</td>\n",
       "      <td>0</td>\n",
       "      <td>800000</td>\n",
       "    </tr>\n",
       "    <tr>\n",
       "      <th>5.544796</th>\n",
       "      <td>kworker/0:1</td>\n",
       "      <td>0</td>\n",
       "      <td>853</td>\n",
       "      <td>0</td>\n",
       "      <td>950000</td>\n",
       "    </tr>\n",
       "    <tr>\n",
       "      <th>7.248834</th>\n",
       "      <td>kworker/0:1</td>\n",
       "      <td>0</td>\n",
       "      <td>853</td>\n",
       "      <td>0</td>\n",
       "      <td>450000</td>\n",
       "    </tr>\n",
       "    <tr>\n",
       "      <th>7.947276</th>\n",
       "      <td>kworker/0:1</td>\n",
       "      <td>0</td>\n",
       "      <td>853</td>\n",
       "      <td>0</td>\n",
       "      <td>950000</td>\n",
       "    </tr>\n",
       "    <tr>\n",
       "      <th>13.065396</th>\n",
       "      <td>kworker/0:1</td>\n",
       "      <td>0</td>\n",
       "      <td>853</td>\n",
       "      <td>0</td>\n",
       "      <td>450000</td>\n",
       "    </tr>\n",
       "    <tr>\n",
       "      <th>20.564057</th>\n",
       "      <td>shutils</td>\n",
       "      <td>2</td>\n",
       "      <td>1266</td>\n",
       "      <td>0</td>\n",
       "      <td>450000</td>\n",
       "    </tr>\n",
       "  </tbody>\n",
       "</table>\n",
       "</div>"
      ],
      "text/plain": [
       "                __comm  __cpu  __pid  cpu  frequency\n",
       "Time                                                \n",
       "0.000000       shutils      2   1247    0     450000\n",
       "1.944862   kworker/0:1      0    853    0     800000\n",
       "5.544796   kworker/0:1      0    853    0     950000\n",
       "7.248834   kworker/0:1      0    853    0     450000\n",
       "7.947276   kworker/0:1      0    853    0     950000\n",
       "13.065396  kworker/0:1      0    853    0     450000\n",
       "20.564057      shutils      2   1266    0     450000"
      ]
     },
     "execution_count": 21,
     "metadata": {},
     "output_type": "execute_result"
    }
   ],
   "source": [
    "cpu0_freqs"
   ]
  },
  {
   "cell_type": "code",
   "execution_count": 22,
   "metadata": {
    "collapsed": false
   },
   "outputs": [
    {
     "data": {
      "image/png": "[encoded data removed]",
      "text/plain": [
       "<matplotlib.figure.Figure at 0x7f09c9ef5d50>"
      ]
     },
     "metadata": {},
     "output_type": "display_data"
    }
   ],
   "source": [
    "cpu0_freqs['frequency'].plot(drawstyle='steps');"
   ]
  },
  {
   "cell_type": "code",
   "execution_count": 23,
   "metadata": {
    "collapsed": false
   },
   "outputs": [],
   "source": [
    "cpu0_tasks = nrg_trace.sched_switch.data_frame[nrg_trace.sched_switch.data_frame['__cpu'] == 0]"
   ]
  },
  {
   "cell_type": "code",
   "execution_count": 129,
   "metadata": {
    "collapsed": false,
    "scrolled": true
   },
   "outputs": [
    {
     "data": {
      "text/html": [
       "<div>\n",
       "<table border=\"1\" class=\"dataframe\">\n",
       "  <thead>\n",
       "    <tr style=\"text-align: right;\">\n",
       "      <th></th>\n",
       "      <th>__comm</th>\n",
       "      <th>__cpu</th>\n",
       "      <th>__pid</th>\n",
       "      <th>next_comm</th>\n",
       "      <th>next_pid</th>\n",
       "      <th>next_prio</th>\n",
       "      <th>prev_comm</th>\n",
       "      <th>prev_pid</th>\n",
       "      <th>prev_prio</th>\n",
       "      <th>prev_state</th>\n",
       "    </tr>\n",
       "    <tr>\n",
       "      <th>Time</th>\n",
       "      <th></th>\n",
       "      <th></th>\n",
       "      <th></th>\n",
       "      <th></th>\n",
       "      <th></th>\n",
       "      <th></th>\n",
       "      <th></th>\n",
       "      <th></th>\n",
       "      <th></th>\n",
       "      <th></th>\n",
       "    </tr>\n",
       "  </thead>\n",
       "  <tbody>\n",
       "    <tr>\n",
       "      <th>0.417728</th>\n",
       "      <td>&lt;idle&gt;</td>\n",
       "      <td>0</td>\n",
       "      <td>0</td>\n",
       "      <td>rt-app</td>\n",
       "      <td>1251</td>\n",
       "      <td>120</td>\n",
       "      <td>swapper/0</td>\n",
       "      <td>0</td>\n",
       "      <td>120</td>\n",
       "      <td>0</td>\n",
       "    </tr>\n",
       "    <tr>\n",
       "      <th>0.527610</th>\n",
       "      <td>task_ramp_5</td>\n",
       "      <td>0</td>\n",
       "      <td>1251</td>\n",
       "      <td>swapper/0</td>\n",
       "      <td>0</td>\n",
       "      <td>120</td>\n",
       "      <td>task_ramp_5</td>\n",
       "      <td>1251</td>\n",
       "      <td>120</td>\n",
       "      <td>1</td>\n",
       "    </tr>\n",
       "    <tr>\n",
       "      <th>0.617912</th>\n",
       "      <td>&lt;idle&gt;</td>\n",
       "      <td>0</td>\n",
       "      <td>0</td>\n",
       "      <td>task_ramp_5</td>\n",
       "      <td>1251</td>\n",
       "      <td>120</td>\n",
       "      <td>swapper/0</td>\n",
       "      <td>0</td>\n",
       "      <td>120</td>\n",
       "      <td>0</td>\n",
       "    </tr>\n",
       "    <tr>\n",
       "      <th>0.728050</th>\n",
       "      <td>task_ramp_5</td>\n",
       "      <td>0</td>\n",
       "      <td>1251</td>\n",
       "      <td>swapper/0</td>\n",
       "      <td>0</td>\n",
       "      <td>120</td>\n",
       "      <td>task_ramp_5</td>\n",
       "      <td>1251</td>\n",
       "      <td>120</td>\n",
       "      <td>1</td>\n",
       "    </tr>\n",
       "    <tr>\n",
       "      <th>0.818062</th>\n",
       "      <td>&lt;idle&gt;</td>\n",
       "      <td>0</td>\n",
       "      <td>0</td>\n",
       "      <td>task_ramp_5</td>\n",
       "      <td>1251</td>\n",
       "      <td>120</td>\n",
       "      <td>swapper/0</td>\n",
       "      <td>0</td>\n",
       "      <td>120</td>\n",
       "      <td>0</td>\n",
       "    </tr>\n",
       "  </tbody>\n",
       "</table>\n",
       "</div>"
      ],
      "text/plain": [
       "               __comm  __cpu  __pid    next_comm  next_pid  next_prio  \\\n",
       "Time                                                                    \n",
       "0.417728       <idle>      0      0       rt-app      1251        120   \n",
       "0.527610  task_ramp_5      0   1251    swapper/0         0        120   \n",
       "0.617912       <idle>      0      0  task_ramp_5      1251        120   \n",
       "0.728050  task_ramp_5      0   1251    swapper/0         0        120   \n",
       "0.818062       <idle>      0      0  task_ramp_5      1251        120   \n",
       "\n",
       "            prev_comm  prev_pid  prev_prio  prev_state  \n",
       "Time                                                    \n",
       "0.417728    swapper/0         0        120           0  \n",
       "0.527610  task_ramp_5      1251        120           1  \n",
       "0.617912    swapper/0         0        120           0  \n",
       "0.728050  task_ramp_5      1251        120           1  \n",
       "0.818062    swapper/0         0        120           0  "
      ]
     },
     "execution_count": 129,
     "metadata": {},
     "output_type": "execute_result"
    }
   ],
   "source": [
    "cpu0_tasks.head()"
   ]
  },
  {
   "cell_type": "code",
   "execution_count": 36,
   "metadata": {
    "collapsed": false
   },
   "outputs": [],
   "source": [
    "idle_tasks = cpu0_tasks[cpu0_tasks['__pid'] == 0]\n",
    "# sched_switch events where next task is the IDLE task\n",
    "next_idle_tasks = cpu0_tasks[cpu0_tasks['next_pid'] == 0]"
   ]
  },
  {
   "cell_type": "code",
   "execution_count": 56,
   "metadata": {
    "collapsed": false
   },
   "outputs": [],
   "source": [
    "# Compute intervals of time in which CPU0 is not IDLE\n",
    "tasks_time_intervals = pd.DataFrame(columns=['start', 'end', 'time_interval'])\n",
    "i = 0\n",
    "for t1, t2 in zip(idle_tasks.index, next_idle_tasks.index):\n",
    "    tasks_time_intervals.loc[i] = [t1, t2, t2 - t1]\n",
    "    i += 1"
   ]
  },
  {
   "cell_type": "code",
   "execution_count": 78,
   "metadata": {
    "collapsed": false
   },
   "outputs": [],
   "source": [
    "# Compute the non-IDLE time spent at a certain frequency\n",
    "time_at_freq = pd.DataFrame(columns=['time', 'frequency', 'voltage'])\n",
    "i = 0\n",
    "row_iterator = cpu0_freqs.iterrows()\n",
    "t_prev, f_prev = row_iterator.next()  # take first item from row_iterator\n",
    "for t, f in row_iterator:\n",
    "    nonidle_time = tasks_time_intervals[(tasks_time_intervals['start'] >= t_prev) & (tasks_time_intervals['start'] <= t)]\n",
    "    freq = f['frequency']\n",
    "    time_at_freq.loc[i] = [nonidle_time.sum()['time_interval'], freq, juno_opps['little'][freq]]\n",
    "    i += 1\n",
    "    f_prev = f\n",
    "    t_prev = t\n",
    "\n",
    "# We can sum the time intervals with same frequncy and voltage\n",
    "time_at_freq = time_at_freq.groupby(['frequency', 'voltage']).sum()\n",
    "# Index by voltage\n",
    "time_at_freq = time_at_freq.reset_index('frequency')"
   ]
  },
  {
   "cell_type": "markdown",
   "metadata": {},
   "source": [
    "Let's assume our load capacitance ($C_L$) is 500 $fF$"
   ]
  },
  {
   "cell_type": "code",
   "execution_count": 124,
   "metadata": {
    "collapsed": true
   },
   "outputs": [],
   "source": [
    "C_L = 500*(10**(-15))"
   ]
  },
  {
   "cell_type": "code",
   "execution_count": 131,
   "metadata": {
    "collapsed": false
   },
   "outputs": [
    {
     "name": "stdout",
     "output_type": "stream",
     "text": [
      "Energy = 2.44968847407 mJ\n"
     ]
    }
   ],
   "source": [
    "energy = 0.0\n",
    "for v in time_at_freq.index:\n",
    "    energy += (v/1000.0)**2 * (time_at_freq.loc[v]['frequency']*1000.0) * time_at_freq.loc[v]['time']\n",
    "\n",
    "print \"Energy = {} mJ\".format(energy*C_L*1000)"
   ]
  },
  {
   "cell_type": "code",
   "execution_count": 134,
   "metadata": {
    "collapsed": false
   },
   "outputs": [
    {
     "name": "stdout",
     "output_type": "stream",
     "text": [
      "Power is 0.95029 mW\n"
     ]
    }
   ],
   "source": [
    "power = 0.0\n",
    "for v in time_at_freq.index:\n",
    "    power += (v/1000.0)**2 * (time_at_freq.loc[v]['frequency']*1000.0)\n",
    "    \n",
    "print \"Power is {} mW\".format(power*C_L*1000)"
   ]
  }
 ],
 "metadata": {
  "kernelspec": {
   "display_name": "Python 2",
   "language": "python",
   "name": "python2"
  },
  "language_info": {
   "codemirror_mode": {
    "name": "ipython",
    "version": 2
   },
   "file_extension": ".py",
   "mimetype": "text/x-python",
   "name": "python",
   "nbconvert_exporter": "python",
   "pygments_lexer": "ipython2",
   "version": "2.7.6"
  }
 },
 "nbformat": 4,
 "nbformat_minor": 0
}
