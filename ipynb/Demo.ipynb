{
 "cells": [
  {
   "cell_type": "markdown",
   "metadata": {},
   "source": [
    "# Import Required Modules"
   ]
  },
  {
   "cell_type": "code",
   "execution_count": null,
   "metadata": {
    "collapsed": true,
    "run_control": {
     "marked": false
    }
   },
   "outputs": [],
   "source": [
    "import logging\n",
    "reload(logging)\n",
    "logging.basicConfig(\n",
    "    format='%(asctime)-9s %(levelname)-8s: %(message)s',\n",
    "    datefmt='%I:%M:%S')\n",
    "\n",
    "# Enable logging at INFO level\n",
    "logging.getLogger().setLevel(logging.INFO)"
   ]
  },
  {
   "cell_type": "code",
   "execution_count": null,
   "metadata": {
    "collapsed": false,
    "run_control": {
     "marked": false
    }
   },
   "outputs": [],
   "source": [
    "# Generate plots inline\n",
    "%matplotlib inline\n",
    "\n",
    "import json\n",
    "import os\n",
    "\n",
    "# Support for plotting\n",
    "import numpy\n",
    "import pandas as pd\n",
    "import matplotlib.pyplot as plt\n",
    "import trappy"
   ]
  },
  {
   "cell_type": "markdown",
   "metadata": {},
   "source": [
    "# Target Configuration"
   ]
  },
  {
   "cell_type": "markdown",
   "metadata": {},
   "source": [
    "The first step in the LISA's analysis workflow is to build the so called *Test Environment*, an object that given a set of information on the target device takes care of:\n",
    "\n",
    "- connecting to the target device (via adb in case of Android device, via SSH otherwise)\n",
    "- setting the directory where data shall be stored\n",
    "- deploying the relevant tools on the target device (these must be put under `$LISA_HOME/tools/<device_architecture/`)\n",
    "- defining what trace events to collect\n",
    "\n",
    "The `my_conf` dictionary declared below provides those information to the `TestEnv` initialization method."
   ]
  },
  {
   "cell_type": "code",
   "execution_count": null,
   "metadata": {
    "collapsed": false,
    "run_control": {
     "marked": false
    }
   },
   "outputs": [],
   "source": [
    "# Setup target configuration\n",
    "my_conf = {\n",
    "\n",
    "    # Target platform and board\n",
    "    \"platform\"    : 'android',\n",
    "    \"board\"       : 'hikey',\n",
    "\n",
    "    # Folder where all the results will be collected\n",
    "    \"results_dir\" : \"Demo\",\n",
    "\n",
    "    # FTrace events to collect for all the tests configuration which have\n",
    "    # the \"ftrace\" flag enabled\n",
    "    \"ftrace\"  : {\n",
    "        \"events\" : [\n",
    "            \"cpu_frequency\",\n",
    "            \"cpu_idle\",\n",
    "            \"sched_switch\",\n",
    "            \"sched_wakeup\",\n",
    "            \"sched_load_avg_cpu\",\n",
    "            \"sched_load_avg_task\",\n",
    "            \"sched_overutilized\",\n",
    "        ],\n",
    "        \"buffsize\" : 10 * 1024,\n",
    "    },\n",
    "\n",
    "    # Tools required by the experiments\n",
    "    \"tools\"   : [ 'trace-cmd', 'rt-app' ],\n",
    "    \n",
    "    # Define devlib modules to load\n",
    "    \"modules\"     : [\n",
    "        'cpufreq',       # enable CPUFreq support\n",
    "        'cpuidle',       # enable cpuidle support\n",
    "    ],\n",
    "    \n",
    "    # Comment this line to calibrate RTApp in your own platform\n",
    "    \"rtapp-calib\" :  {\"0\": 251, \"1\": 251, \"2\": 250, \"3\": 251, \"4\": 253, \"5\": 251, \"6\": 251, \"7\": 252},\n",
    "}"
   ]
  },
  {
   "cell_type": "code",
   "execution_count": null,
   "metadata": {
    "collapsed": false,
    "scrolled": false
   },
   "outputs": [],
   "source": [
    "# Support to access the remote target\n",
    "import devlib\n",
    "from env import TestEnv\n",
    "\n",
    "!adb root\n",
    "# Initialize a test environment using:\n",
    "te = TestEnv(my_conf, wipe=False, force_new=True)\n",
    "target = te.target"
   ]
  },
  {
   "cell_type": "markdown",
   "metadata": {},
   "source": [
    "The `target` object allows to directly communicate with the target device. It is possible to query the device and execute commands on it, for example:"
   ]
  },
  {
   "cell_type": "code",
   "execution_count": null,
   "metadata": {
    "collapsed": true
   },
   "outputs": [],
   "source": [
    "# List device current directory\n",
    "target.execute('ls')"
   ]
  },
  {
   "cell_type": "markdown",
   "metadata": {},
   "source": [
    "or if you have specified the `devlib` modules to load during the Test Environment creation, you will now be able to read and information related to different subsystems.\n",
    "\n",
    "For example, we have specified to load the `cpufreq` module. Therefore, we can read the current frequency of a CPU by running:"
   ]
  },
  {
   "cell_type": "code",
   "execution_count": null,
   "metadata": {
    "collapsed": true
   },
   "outputs": [],
   "source": [
    "# Read current frequency for CPU 0\n",
    "target.cpufreq.get_frequency(0)"
   ]
  },
  {
   "cell_type": "markdown",
   "metadata": {},
   "source": [
    "# Workload Execution"
   ]
  },
  {
   "cell_type": "markdown",
   "metadata": {},
   "source": [
    "In this demo we generate a synthetic workload using `rt-app`. LISA provides an API to describe, create and run the synthetic workload. More specifically, there are two main classes of synthetic workloads available to the user, a Ramp task and a Periodic task.\n",
    "\n",
    "Morever, as shown in the code below, it is possible to combine basic synthetic workloads into more complex ones."
   ]
  },
  {
   "cell_type": "code",
   "execution_count": null,
   "metadata": {
    "collapsed": false
   },
   "outputs": [],
   "source": [
    "# Support for workload generation\n",
    "from wlgen import RTA, Ramp, Periodic\n",
    "\n",
    "# Initial phase and pinning parameters\n",
    "ramp = Ramp(period_ms=100,\n",
    "            start_pct=5,\n",
    "            end_pct=65,\n",
    "            delta_pct=20,\n",
    "            time_s=1)\n",
    "\n",
    "# Following phases\n",
    "medium_slow = Periodic(duty_cycle_pct=10, duration_s=5, period_ms=100)\n",
    "high_fast   = Periodic(duty_cycle_pct=60, duration_s=5, period_ms=10)\n",
    "\n",
    "# Compose the task\n",
    "complex_task = ramp + medium_slow + high_fast"
   ]
  },
  {
   "cell_type": "markdown",
   "metadata": {},
   "source": [
    "The following method contains the code to:\n",
    "\n",
    "1) Create an `rt-app` workload\n",
    "2) Start and stop trace events collection using `ftrace`\n",
    "3) Run the synthetic workload\n",
    "4) Pull the trace(s) from the target device"
   ]
  },
  {
   "cell_type": "code",
   "execution_count": null,
   "metadata": {
    "collapsed": false
   },
   "outputs": [],
   "source": [
    "def experiment(te):\n",
    "\n",
    "    # Create and RTApp RAMP task\n",
    "    rtapp = RTA(te.target, 'ramp', calibration=te.calibration())\n",
    "    rtapp.conf(kind='profile',\n",
    "               params={\n",
    "                    # Task 1\n",
    "                    'complex' : complex_task.get(),\n",
    "                    # Task 2\n",
    "                    'ramp' : Ramp(period_ms=10,\n",
    "                                  start_pct=60,\n",
    "                                  end_pct=10,\n",
    "                                  delta_pct=10,\n",
    "                                  time_s=1).get(),\n",
    "                    # Task 3\n",
    "                    'periodic' : Periodic(duty_cycle_pct=40,\n",
    "                                          duration_s=5,\n",
    "                                          period_ms=200).get()\n",
    "                },\n",
    "                cpus=[1, 2])\n",
    "\n",
    "    # FTrace the execution of this workload\n",
    "    te.ftrace.start()\n",
    "    rtapp.run(out_dir=te.res_dir)\n",
    "    te.ftrace.stop()\n",
    "\n",
    "    # Collect and keep track of the trace\n",
    "    trace_file = os.path.join(te.res_dir, 'trace.dat')\n",
    "    te.ftrace.get_trace(trace_file)\n",
    "    \n",
    "    # Collect and keep track of the Kernel Functions performance data\n",
    "    stats_file = os.path.join(te.res_dir, 'trace.stats')\n",
    "    te.ftrace.get_stats(stats_file)\n",
    "\n",
    "    # Dump platform descriptor\n",
    "    te.platform_dump(te.res_dir)"
   ]
  },
  {
   "cell_type": "code",
   "execution_count": null,
   "metadata": {
    "collapsed": false,
    "scrolled": true
   },
   "outputs": [],
   "source": [
    "experiment(te)"
   ]
  },
  {
   "cell_type": "markdown",
   "metadata": {},
   "source": [
    "# Parse Trace and Profiling Data"
   ]
  },
  {
   "cell_type": "markdown",
   "metadata": {},
   "source": [
    "Once the workload completes and trace(s) are pulled to the host, it is possible to perform statistical analysis on the trace events and generate a number of predefined plots.\n",
    "\n",
    "LISA relies on `TRAPpy` (https://github.com/ARM-software/trappy) for trace parsing. What this tool does is to convert trace files data (generated by `FTrace` or `SysTrace`) into `pandas` dataframes (`pandas` is a Python package that provides a set of functionalities and data structures for data analysis)."
   ]
  },
  {
   "cell_type": "code",
   "execution_count": null,
   "metadata": {
    "collapsed": false,
    "run_control": {
     "marked": false
    }
   },
   "outputs": [],
   "source": [
    "# Base folder where tests folder are located\n",
    "res_dir = te.res_dir\n",
    "logging.info('Content of the output folder %s', res_dir)\n",
    "!tree {res_dir}"
   ]
  },
  {
   "cell_type": "markdown",
   "metadata": {},
   "source": [
    "LISA provides a `Trace` objects to parse a set of events from a trace:"
   ]
  },
  {
   "cell_type": "code",
   "execution_count": null,
   "metadata": {
    "collapsed": false,
    "run_control": {
     "marked": false
    }
   },
   "outputs": [],
   "source": [
    "with open(os.path.join(res_dir, 'platform.json'), 'r') as fh:\n",
    "    platform = json.load(fh)"
   ]
  },
  {
   "cell_type": "code",
   "execution_count": null,
   "metadata": {
    "collapsed": false,
    "run_control": {
     "marked": false
    }
   },
   "outputs": [],
   "source": [
    "# Support for trace analysis\n",
    "from trace import Trace\n",
    "\n",
    "trace_file = os.path.join(res_dir, 'trace.dat')\n",
    "trace = Trace(platform, trace_file, events=my_conf['ftrace']['events'])"
   ]
  },
  {
   "cell_type": "markdown",
   "metadata": {},
   "source": [
    "The `Trace` object contains two main attributes:\n",
    "\n",
    "- an `analysis` object with several subobjects each referring to a different type of analysis (frequency analysis, idle states analysis, etc.)\n",
    "- a `data_frame` object through which it is possible to access the data frame associated with each trace event as well as a set of predefined data frames which are basically the result of postprocessing the original trace events\n",
    "\n",
    "Examples of data frame getters are:"
   ]
  },
  {
   "cell_type": "code",
   "execution_count": null,
   "metadata": {
    "collapsed": true
   },
   "outputs": [],
   "source": [
    "trace.data_frame.trace_event('cpu_frequency')"
   ]
  },
  {
   "cell_type": "code",
   "execution_count": null,
   "metadata": {
    "collapsed": true
   },
   "outputs": [],
   "source": [
    "trace.data_frame.cluster_frequency_residency('big')"
   ]
  },
  {
   "cell_type": "markdown",
   "metadata": {
    "collapsed": true
   },
   "source": [
    "# Trace visualization"
   ]
  },
  {
   "cell_type": "markdown",
   "metadata": {},
   "source": [
    "The `TRAPpy` tool allows to visualize a trace in a similar way as `kernelshark` does:"
   ]
  },
  {
   "cell_type": "code",
   "execution_count": null,
   "metadata": {
    "collapsed": false,
    "run_control": {
     "marked": false
    }
   },
   "outputs": [],
   "source": [
    "trappy.plotter.plot_trace(trace.ftrace)"
   ]
  },
  {
   "cell_type": "markdown",
   "metadata": {},
   "source": [
    "It is possible to only plot a set of tasks by listing them as argument to the `plot_trace()` method:"
   ]
  },
  {
   "cell_type": "code",
   "execution_count": null,
   "metadata": {
    "collapsed": false,
    "run_control": {
     "marked": false
    }
   },
   "outputs": [],
   "source": [
    "trappy.plotter.plot_trace(trace.ftrace, execnames=['ramp', 'periodic', 'complex'])"
   ]
  },
  {
   "cell_type": "markdown",
   "metadata": {},
   "source": [
    "# Trace Analysis"
   ]
  },
  {
   "cell_type": "markdown",
   "metadata": {},
   "source": [
    "## Tasks signals"
   ]
  },
  {
   "cell_type": "markdown",
   "metadata": {},
   "source": [
    "One of the predefined plots in LISA allows you to visualize the behaviour over time of tasks related signals like PELT versus the CPU capacity.\n",
    "\n",
    "Moreover, the pink bands shown in the plot below represent the intervals of time where the system was overutilized (i.e. out of EAS mode).\n",
    "\n",
    "Last but not least, the residencies plot tells us on which CPU a particular task was running throughout the duration of the trace."
   ]
  },
  {
   "cell_type": "code",
   "execution_count": null,
   "metadata": {
    "collapsed": false
   },
   "outputs": [],
   "source": [
    "trace.analysis.tasks.plotTasks('complex', signals=['util_avg', 'sched_overutilized', 'residencies'])"
   ]
  },
  {
   "cell_type": "markdown",
   "metadata": {},
   "source": [
    "## Latency Plots"
   ]
  },
  {
   "cell_type": "markdown",
   "metadata": {},
   "source": [
    "An interesting feature of LISA's trace analysis is the latency analysis module.\n",
    "\n",
    "In particular, `plotLatency()` generates a set of plots to report the WAKEUP and PREEMPT latencies the specified task has been subject to. A WAKEUP latencies is the time from when a task becomes RUNNABLE till the first time it gets a CPU. A PREEMPT latencies is the time from when a RUNNABLE task is suspended because of the CPU is assigned to another task till when the task enters the CPU again."
   ]
  },
  {
   "cell_type": "code",
   "execution_count": null,
   "metadata": {
    "collapsed": false
   },
   "outputs": [],
   "source": [
    "# Plot latency events for a specified task\n",
    "latency_stats_df = trace.analysis.latency.plotLatency('ramp', )"
   ]
  },
  {
   "cell_type": "code",
   "execution_count": null,
   "metadata": {
    "collapsed": false
   },
   "outputs": [],
   "source": [
    "# Plot statistics on task latencies\n",
    "latency_stats_df.T"
   ]
  },
  {
   "cell_type": "markdown",
   "metadata": {},
   "source": [
    "The same plot is also available with a slighlty different representation. Here, the bands represent the latencies."
   ]
  },
  {
   "cell_type": "code",
   "execution_count": null,
   "metadata": {
    "collapsed": false
   },
   "outputs": [],
   "source": [
    "# Plot latency events for a specified task\n",
    "trace.analysis.latency.plotLatencyBands('ramp')"
   ]
  },
  {
   "cell_type": "markdown",
   "metadata": {},
   "source": [
    "Tipically, the band representation of latencies is hard to analyse without narrowing the time range to see the bands clearly. To do this, we simply call the `setXTimeRange()` method available in the `trace` object to shrink the plot window to the specified time range."
   ]
  },
  {
   "cell_type": "code",
   "execution_count": null,
   "metadata": {
    "collapsed": false
   },
   "outputs": [],
   "source": [
    "trace.setXTimeRange(t_min=3.9, t_max=4.1)\n",
    "# Plot latency events for a specified task\n",
    "trace.analysis.latency.plotLatencyBands('ramp')"
   ]
  },
  {
   "cell_type": "code",
   "execution_count": null,
   "metadata": {
    "collapsed": false
   },
   "outputs": [],
   "source": [
    "# Reset time range to full scale\n",
    "trace.setXTimeRange(t_min=0, t_max=15)"
   ]
  },
  {
   "cell_type": "markdown",
   "metadata": {},
   "source": [
    "## Frequency Analysis"
   ]
  },
  {
   "cell_type": "markdown",
   "metadata": {},
   "source": [
    "The frequency analysis object does mainly analysis of `cpu_frequency` events. For example, the `plotClusterFrequencies()` method shows for each cluster how the frequency changes for the whole duration of the trace together with the average frequency."
   ]
  },
  {
   "cell_type": "code",
   "execution_count": null,
   "metadata": {
    "collapsed": false
   },
   "outputs": [],
   "source": [
    "trace.analysis.frequency.plotClusterFrequencies()"
   ]
  },
  {
   "cell_type": "markdown",
   "metadata": {},
   "source": [
    "Another interesting plot is the frequency residency, available per-cluster and per-CPU. Frequency residency is the amount of time spent by a given cluster/CPU at each available frequency.\n",
    "\n",
    "In particular, these two methods show two types of residencies:\n",
    "\n",
    "- total, the total amount of time spent by a cluster/CPU at a particular frequency\n",
    "- active, the non-idle time spent by a cluster/CPU at a particular frequency"
   ]
  },
  {
   "cell_type": "code",
   "execution_count": null,
   "metadata": {
    "collapsed": false
   },
   "outputs": [],
   "source": [
    "trace.analysis.frequency.plotClusterFrequencyResidency()"
   ]
  },
  {
   "cell_type": "markdown",
   "metadata": {},
   "source": [
    "Same information is also available in percentage with respect to the trace duration (or to the plot window in case the time range has been narrowed using `setXTimeRange()`."
   ]
  },
  {
   "cell_type": "code",
   "execution_count": null,
   "metadata": {
    "collapsed": false
   },
   "outputs": [],
   "source": [
    "trace.analysis.frequency.plotClusterFrequencyResidency(pct=True)"
   ]
  },
  {
   "cell_type": "markdown",
   "metadata": {},
   "source": [
    "## Idle Analysis"
   ]
  },
  {
   "cell_type": "markdown",
   "metadata": {},
   "source": [
    "For what concerns idle states, the idle analysis module implements a set of methods to plot residencies in each idle state."
   ]
  },
  {
   "cell_type": "code",
   "execution_count": null,
   "metadata": {
    "collapsed": false
   },
   "outputs": [],
   "source": [
    "trace.analysis.idle.plotClusterIdleStateResidency()"
   ]
  },
  {
   "cell_type": "code",
   "execution_count": null,
   "metadata": {
    "collapsed": false
   },
   "outputs": [],
   "source": [
    "trace.analysis.idle.plotClusterIdleStateResidency(pct=True)"
   ]
  }
 ],
 "metadata": {
  "kernelspec": {
   "display_name": "Python 2",
   "language": "python",
   "name": "python2"
  },
  "language_info": {
   "codemirror_mode": {
    "name": "ipython",
    "version": 2
   },
   "file_extension": ".py",
   "mimetype": "text/x-python",
   "name": "python",
   "nbconvert_exporter": "python",
   "pygments_lexer": "ipython2",
   "version": "2.7.6"
  },
  "nav_menu": {},
  "toc": {
   "navigate_menu": true,
   "number_sections": true,
   "sideBar": true,
   "threshold": 6,
   "toc_cell": false,
   "toc_section_display": "block",
   "toc_window_display": false
  }
 },
 "nbformat": 4,
 "nbformat_minor": 0
}
